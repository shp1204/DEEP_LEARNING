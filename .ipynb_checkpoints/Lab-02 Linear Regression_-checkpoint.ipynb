{
 "cells": [
  {
   "cell_type": "markdown",
   "metadata": {
    "heading_collapsed": true
   },
   "source": [
    "# Linear Regression_Theoretical Overview"
   ]
  },
  {
   "cell_type": "markdown",
   "metadata": {
    "hidden": true
   },
   "source": [
    "input : 1개, output : 1개\n",
    "\n",
    "**공부시간(input)이 많을수록 성적(output)이 높을까 ? 등의 문제를 해결하고자 한다.**"
   ]
  },
  {
   "cell_type": "markdown",
   "metadata": {
    "hidden": true
   },
   "source": [
    "1. $H(x)$: 주어진 $x$ 값에 대해 예측을 어떻게 할 것인가\n",
    "$$ H(x) = Wx + b $$\n",
    "\n",
    "\n",
    "2. $cost(W, b)$: $H(x)$ 가 $y$ 를 얼마나 잘 예측했는가\n",
    "$$ cost(W, b) = \\frac{1}{m} \\sum^m_{i=1} \\left( H(x^{(i)}) - y^{(i)} \\right)^2 $$\n",
    "\n",
    "\n",
    "* cost 평가 방법 : MSE (Mean Squared Error), \n",
    "   - 실제값과 예측값과의 차이를 제곱한 것의 평균\n",
    "   - cost 값이 낮을수록 좋다\n",
    "   - 주로 linear regression에서 사용"
   ]
  },
  {
   "cell_type": "markdown",
   "metadata": {
    "heading_collapsed": true
   },
   "source": [
    "# Linear Regression_basic"
   ]
  },
  {
   "cell_type": "markdown",
   "metadata": {
    "hidden": true
   },
   "source": [
    "* Data\n",
    "* Weight Initialization\n",
    "* Hypothesis\n",
    "* Cost(loss)\n",
    "* Gradient Descent"
   ]
  },
  {
   "cell_type": "code",
   "execution_count": 2,
   "metadata": {
    "hidden": true
   },
   "outputs": [
    {
     "data": {
      "text/plain": [
       "<torch._C.Generator at 0x274aae223d0>"
      ]
     },
     "execution_count": 2,
     "metadata": {},
     "output_type": "execute_result"
    }
   ],
   "source": [
    "import torch\n",
    "import torch.nn as nn\n",
    "import torch.nn.functional as F\n",
    "import torch.optim as optim\n",
    "import matplotlib.pyplot as plt\n",
    "import numpy as np\n",
    "\n",
    "\n",
    "# For reproducibility\n",
    "torch.manual_seed(1)"
   ]
  },
  {
   "cell_type": "markdown",
   "metadata": {
    "heading_collapsed": true,
    "hidden": true
   },
   "source": [
    "## Data"
   ]
  },
  {
   "cell_type": "code",
   "execution_count": 3,
   "metadata": {
    "hidden": true
   },
   "outputs": [],
   "source": [
    "x_train = torch.FloatTensor([[1], [2], [3]])\n",
    "y_train = torch.FloatTensor([[1], [2], [3]])"
   ]
  },
  {
   "cell_type": "markdown",
   "metadata": {
    "heading_collapsed": true,
    "hidden": true
   },
   "source": [
    "## Weight Initialization"
   ]
  },
  {
   "cell_type": "markdown",
   "metadata": {
    "hidden": true
   },
   "source": [
    "weight를 random으로 초기화하지 않고 다른 방법으로 초기화함으로써 성능을 향상시킬 수 있다.\n",
    "\n",
    "1 ) 기존방법 : 난수(Uniform, Normal Distribution)\n",
    "\n",
    "    -> 문제점 : 가중치의 초기값이 크면 gradient 소실, 신경망이 깊어질수록 vanishing gradient 발생\n",
    "\n",
    "2 ) 방법2 : 모든 값을 0으로 or 동일하게\n",
    "\n",
    "    -> 문제점 : 모든 뉴런이 동일한 출력값을 내보내므로 역전파시에 동일한 gradient값을 가져 학습이 잘 되지않는다.\n",
    "    \n",
    "3 ) 방법3 : RBM(Restricted Boltzmann Machine)"
   ]
  },
  {
   "cell_type": "code",
   "execution_count": 5,
   "metadata": {
    "hidden": true
   },
   "outputs": [],
   "source": [
    "W = torch.zeros(1, requires_grad = True)\n",
    "b = torch.zeros(1, requires_grad = True)"
   ]
  },
  {
   "cell_type": "markdown",
   "metadata": {
    "heading_collapsed": true,
    "hidden": true
   },
   "source": [
    "## Hypothesis\n",
    "\n",
    "$$ H(x) = Wx + b $$"
   ]
  },
  {
   "cell_type": "code",
   "execution_count": 6,
   "metadata": {
    "hidden": true
   },
   "outputs": [],
   "source": [
    "hypothesis = x_train * W + b"
   ]
  },
  {
   "cell_type": "markdown",
   "metadata": {
    "heading_collapsed": true,
    "hidden": true
   },
   "source": [
    "## cost(loss)\n",
    "$$ cost(W, b) = \\frac{1}{m} \\sum^m_{i=1} \\left( H(x^{(i)}) - y^{(i)} \\right)^2 $$"
   ]
  },
  {
   "cell_type": "code",
   "execution_count": 7,
   "metadata": {
    "hidden": true
   },
   "outputs": [
    {
     "name": "stdout",
     "output_type": "stream",
     "text": [
      "tensor(4.6667, grad_fn=<MeanBackward0>)\n"
     ]
    }
   ],
   "source": [
    "cost = torch.mean((hypothesis - y_train) ** 2)\n",
    "print(cost)"
   ]
  },
  {
   "cell_type": "markdown",
   "metadata": {
    "heading_collapsed": true,
    "hidden": true
   },
   "source": [
    "## Gradient Descent"
   ]
  },
  {
   "cell_type": "code",
   "execution_count": 8,
   "metadata": {
    "hidden": true
   },
   "outputs": [],
   "source": [
    "optimizer = optim.SGD([W, b], lr = 0.01)\n",
    "\n",
    "# gradient 초기화\n",
    "optimizer.zero_grad()\n",
    "\n",
    "# gradient 계산\n",
    "cost.backward()\n",
    "\n",
    "# step으로 개선\n",
    "optimizer.step()"
   ]
  },
  {
   "cell_type": "markdown",
   "metadata": {
    "heading_collapsed": true,
    "hidden": true
   },
   "source": [
    "## training with full code"
   ]
  },
  {
   "cell_type": "code",
   "execution_count": 22,
   "metadata": {
    "hidden": true,
    "scrolled": true
   },
   "outputs": [
    {
     "name": "stdout",
     "output_type": "stream",
     "text": [
      "Epoch    0/10000 W: 0.009, b: 0.004 Cost: 4.666667\n",
      "Epoch 1000/10000 W: 0.873, b: 0.290 Cost: 0.012049\n",
      "Epoch 2000/10000 W: 0.900, b: 0.228 Cost: 0.007449\n",
      "Epoch 3000/10000 W: 0.921, b: 0.179 Cost: 0.004606\n",
      "Epoch 4000/10000 W: 0.938, b: 0.141 Cost: 0.002848\n",
      "Epoch 5000/10000 W: 0.951, b: 0.111 Cost: 0.001761\n",
      "Epoch 6000/10000 W: 0.962, b: 0.087 Cost: 0.001088\n",
      "Epoch 7000/10000 W: 0.970, b: 0.068 Cost: 0.000673\n",
      "Epoch 8000/10000 W: 0.976, b: 0.054 Cost: 0.000416\n",
      "Epoch 9000/10000 W: 0.981, b: 0.042 Cost: 0.000257\n",
      "Epoch 10000/10000 W: 0.985, b: 0.033 Cost: 0.000159\n"
     ]
    }
   ],
   "source": [
    "# DATA\n",
    "x_train = torch.FloatTensor([[1], [2], [3]])\n",
    "y_train = torch.FloatTensor([[1], [2], [3]])\n",
    "\n",
    "# 모델 초기화\n",
    "W = torch.zeros(1, requires_grad=True)\n",
    "b = torch.zeros(1, requires_grad=True)\n",
    "\n",
    "# optimizer 설정\n",
    "optimizer = optim.SGD([W, b], lr=0.001)\n",
    "\n",
    "nb_epochs = 10000\n",
    "for epoch in range(nb_epochs + 1):\n",
    "    \n",
    "    # H(x) 계산\n",
    "    hypothesis = x_train * W + b\n",
    "    \n",
    "    # cost 계산\n",
    "    cost = torch.mean((hypothesis - y_train) ** 2)\n",
    "\n",
    "    # cost로 H(x) 개선\n",
    "    optimizer.zero_grad()\n",
    "    cost.backward()\n",
    "    optimizer.step()\n",
    "\n",
    "    # 1000번마다 로그 출력\n",
    "    if epoch % 1000 == 0:\n",
    "        print('Epoch {:4d}/{} W: {:.3f}, b: {:.3f} Cost: {:.6f}'.format(\n",
    "            epoch, nb_epochs, W.item(), b.item(), cost.item()\n",
    "        ))"
   ]
  },
  {
   "cell_type": "markdown",
   "metadata": {
    "hidden": true
   },
   "source": [
    "## 예측 어떻게하지 ?"
   ]
  },
  {
   "cell_type": "code",
   "execution_count": null,
   "metadata": {
    "hidden": true
   },
   "outputs": [],
   "source": []
  },
  {
   "cell_type": "markdown",
   "metadata": {
    "heading_collapsed": true
   },
   "source": [
    "# Linear Regression_nn.Module"
   ]
  },
  {
   "cell_type": "markdown",
   "metadata": {
    "heading_collapsed": true,
    "hidden": true
   },
   "source": [
    "## Data"
   ]
  },
  {
   "cell_type": "code",
   "execution_count": 23,
   "metadata": {
    "hidden": true
   },
   "outputs": [],
   "source": [
    "x_train = torch.FloatTensor([[1], [2], [3]])\n",
    "y_train = torch.FloatTensor([[1], [2], [3]])"
   ]
  },
  {
   "cell_type": "markdown",
   "metadata": {
    "heading_collapsed": true,
    "hidden": true
   },
   "source": [
    "## LinearRegressionModel 함수 설정"
   ]
  },
  {
   "cell_type": "code",
   "execution_count": 24,
   "metadata": {
    "hidden": true
   },
   "outputs": [],
   "source": [
    "class LinearRegressionModel(nn.Module):\n",
    "    \n",
    "    def __init__(self):\n",
    "        super().__init__() #  사용할 레이어 정의 \n",
    "        self.linear = nn.Linear(1, 1) # 단순선형회귀 이므로 nn.Linear(1, 1)\n",
    "\n",
    "    def forward(self, x): # 이 모델이 어떻게 입력값에서 출력값을 계산하는지 알려줌\n",
    "        return self.linear(x)"
   ]
  },
  {
   "cell_type": "markdown",
   "metadata": {
    "heading_collapsed": true,
    "hidden": true
   },
   "source": [
    "## train"
   ]
  },
  {
   "cell_type": "code",
   "execution_count": 27,
   "metadata": {
    "hidden": true
   },
   "outputs": [],
   "source": [
    "model = LinearRegressionModel()\n",
    "\n",
    "# 모델을 생성해서 예측값 구하기\n",
    "hypothesis = model(x_train) \n",
    "\n",
    "\n",
    "# MSE(mean squared error)로 cost 구하기\n",
    "cost = F.mse_loss(hypothesis, y_train)\n",
    "\n",
    "\n",
    "# H의 W, b를 바꾸면서 cost 줄이기\n",
    "optimizer = optim.SGD(model.parameters(), lr=0.01)\n",
    "\n",
    "optimizer.zero_grad()\n",
    "cost.backward()\n",
    "optimizer.step()"
   ]
  },
  {
   "cell_type": "markdown",
   "metadata": {
    "heading_collapsed": true,
    "hidden": true
   },
   "source": [
    "## training with full code"
   ]
  },
  {
   "cell_type": "code",
   "execution_count": 29,
   "metadata": {
    "hidden": true
   },
   "outputs": [
    {
     "name": "stdout",
     "output_type": "stream",
     "text": [
      "Epoch    0/10000 W: 0.148, b: -0.119 Cost: 3.896044\n",
      "Epoch 1000/10000 W: 0.926, b: 0.169 Cost: 0.004090\n",
      "Epoch 2000/10000 W: 0.942, b: 0.133 Cost: 0.002529\n",
      "Epoch 3000/10000 W: 0.954, b: 0.104 Cost: 0.001563\n",
      "Epoch 4000/10000 W: 0.964, b: 0.082 Cost: 0.000967\n",
      "Epoch 5000/10000 W: 0.972, b: 0.065 Cost: 0.000598\n",
      "Epoch 6000/10000 W: 0.978, b: 0.051 Cost: 0.000370\n",
      "Epoch 7000/10000 W: 0.982, b: 0.040 Cost: 0.000228\n",
      "Epoch 8000/10000 W: 0.986, b: 0.031 Cost: 0.000141\n",
      "Epoch 9000/10000 W: 0.989, b: 0.025 Cost: 0.000087\n",
      "Epoch 10000/10000 W: 0.991, b: 0.019 Cost: 0.000054\n"
     ]
    }
   ],
   "source": [
    "# 데이터\n",
    "x_train = torch.FloatTensor([[1], [2], [3]])\n",
    "y_train = torch.FloatTensor([[1], [2], [3]])\n",
    "# 모델 초기화\n",
    "model = LinearRegressionModel()\n",
    "# optimizer 설정\n",
    "optimizer = optim.SGD(model.parameters(), lr=0.001)\n",
    "\n",
    "nb_epochs = 10000\n",
    "for epoch in range(nb_epochs + 1):\n",
    "    \n",
    "    # H(x) 계산\n",
    "    prediction = model(x_train)\n",
    "    \n",
    "    # cost 계산\n",
    "    cost = F.mse_loss(prediction, y_train)\n",
    "    \n",
    "    # cost로 H(x) 개선\n",
    "    optimizer.zero_grad()\n",
    "    cost.backward()\n",
    "    optimizer.step()\n",
    "    \n",
    "    # 1000번마다 로그 출력\n",
    "    if epoch % 1000 == 0:\n",
    "        params = list(model.parameters())\n",
    "        W = params[0].item()\n",
    "        b = params[1].item()\n",
    "        print('Epoch {:4d}/{} W: {:.3f}, b: {:.3f} Cost: {:.6f}'.format(\n",
    "            epoch, nb_epochs, W, b, cost.item()\n",
    "        ))"
   ]
  },
  {
   "cell_type": "markdown",
   "metadata": {
    "heading_collapsed": true,
    "hidden": true
   },
   "source": [
    "## 예측해보자"
   ]
  },
  {
   "cell_type": "code",
   "execution_count": 31,
   "metadata": {
    "hidden": true
   },
   "outputs": [
    {
     "name": "stdout",
     "output_type": "stream",
     "text": [
      "input=4일 때, predict ?  tensor([[3.9853]], grad_fn=<AddmmBackward>)\n"
     ]
    }
   ],
   "source": [
    "new_var = torch.FloatTensor([[4.0]])\n",
    "pred_y = model(new_var)\n",
    "print('input=4일 때, predict ? ', pred_y)"
   ]
  },
  {
   "cell_type": "markdown",
   "metadata": {
    "heading_collapsed": true
   },
   "source": [
    "# Multivariable Linear Regression_Theoretical Overview"
   ]
  },
  {
   "cell_type": "markdown",
   "metadata": {
    "hidden": true
   },
   "source": [
    "input : 여러개, output : 1개\n",
    "\n",
    "\n",
    "**공부시간, 잠자는 시간, 등하교시간(input)에 따라 성적(output)이 어떻게 변할까 ? 등의 문제를 해결하고자 한다.**"
   ]
  },
  {
   "cell_type": "markdown",
   "metadata": {
    "hidden": true
   },
   "source": [
    "1. $H(x)$: 주어진 $x$ 값에 대해 예측을 어떻게 할 것인가\n",
    "\n",
    "$$ H(x_1, x_2, x_3) = x_1w_1 + x_2w_2 + x_3w_3 + b $$\n",
    "\n",
    "\n",
    "2. $cost(W, b)$: $H(x)$ 가 $y$ 를 얼마나 잘 예측했는가\n",
    "\n",
    "$$ cost(W, b) = \\frac{1}{m} \\sum^m_{i=1} \\left( H(x^{(i)}) - y^{(i)} \\right)^2 $$"
   ]
  },
  {
   "cell_type": "markdown",
   "metadata": {
    "heading_collapsed": true
   },
   "source": [
    "# Multivariable Linear Regression_basic"
   ]
  },
  {
   "cell_type": "code",
   "execution_count": 32,
   "metadata": {
    "hidden": true
   },
   "outputs": [
    {
     "data": {
      "text/plain": [
       "<torch._C.Generator at 0x274aae223d0>"
      ]
     },
     "execution_count": 32,
     "metadata": {},
     "output_type": "execute_result"
    }
   ],
   "source": [
    "import torch\n",
    "import torch.nn as nn\n",
    "import torch.nn.functional as F\n",
    "import torch.optim as optim\n",
    "import matplotlib.pyplot as plt\n",
    "\n",
    "# For reproducibility\n",
    "torch.manual_seed(1)"
   ]
  },
  {
   "cell_type": "markdown",
   "metadata": {
    "heading_collapsed": true,
    "hidden": true
   },
   "source": [
    "## Naive Data"
   ]
  },
  {
   "cell_type": "code",
   "execution_count": 33,
   "metadata": {
    "hidden": true
   },
   "outputs": [],
   "source": [
    "# DATA\n",
    "x1_train = torch.FloatTensor([[73], [93], [89], [96], [73]])\n",
    "x2_train = torch.FloatTensor([[80], [88], [91], [98], [66]])\n",
    "x3_train = torch.FloatTensor([[75], [93], [90], [100], [70]])\n",
    "y_train = torch.FloatTensor([[152], [185], [180], [196], [142]])"
   ]
  },
  {
   "cell_type": "code",
   "execution_count": 34,
   "metadata": {
    "hidden": true
   },
   "outputs": [
    {
     "name": "stdout",
     "output_type": "stream",
     "text": [
      "Epoch    0/1000 w1: 0.294 w2: 0.297 w3: 0.297 b: 0.003 Cost: 29661.800781\n",
      "Epoch  100/1000 w1: 0.674 w2: 0.676 w3: 0.676 b: 0.008 Cost: 1.563634\n",
      "Epoch  200/1000 w1: 0.679 w2: 0.677 w3: 0.677 b: 0.008 Cost: 1.497603\n",
      "Epoch  300/1000 w1: 0.684 w2: 0.677 w3: 0.677 b: 0.008 Cost: 1.435026\n",
      "Epoch  400/1000 w1: 0.689 w2: 0.678 w3: 0.678 b: 0.008 Cost: 1.375730\n",
      "Epoch  500/1000 w1: 0.694 w2: 0.678 w3: 0.678 b: 0.009 Cost: 1.319503\n",
      "Epoch  600/1000 w1: 0.699 w2: 0.679 w3: 0.679 b: 0.009 Cost: 1.266215\n",
      "Epoch  700/1000 w1: 0.704 w2: 0.679 w3: 0.679 b: 0.009 Cost: 1.215693\n",
      "Epoch  800/1000 w1: 0.709 w2: 0.679 w3: 0.679 b: 0.009 Cost: 1.167821\n",
      "Epoch  900/1000 w1: 0.713 w2: 0.680 w3: 0.680 b: 0.009 Cost: 1.122419\n",
      "Epoch 1000/1000 w1: 0.718 w2: 0.680 w3: 0.680 b: 0.009 Cost: 1.079375\n"
     ]
    }
   ],
   "source": [
    "# 모델 초기화\n",
    "# requires_grad :  모델의 부분을 고정하고 싶은 경우에 유용, \n",
    "#                  input에 있으면 output에서도 gradient가 필요\n",
    "w1 = torch.zeros(1, requires_grad=True)\n",
    "w2 = torch.zeros(1, requires_grad=True)\n",
    "w3 = torch.zeros(1, requires_grad=True)\n",
    "b = torch.zeros(1, requires_grad=True)\n",
    "\n",
    "\n",
    "# optimizer 설정\n",
    "# sgd : 확률적 경사하강법, 신경망 학습시에는 좀 더 정교한 AdaGrad, RMSProp, Adam 등의 optimizer 사용\n",
    "optimizer = optim.SGD([w1, w2, w3, b], lr=1e-5)\n",
    "\n",
    "nb_epochs = 1000\n",
    "for epoch in range(nb_epochs + 1):\n",
    "    \n",
    "    # H(x) 계산\n",
    "    hypothesis = x1_train * w1 + x2_train * w2 + x3_train * w3 + b\n",
    "\n",
    "    # cost 계산\n",
    "    cost = torch.mean((hypothesis - y_train) ** 2)\n",
    "\n",
    "    # cost로 H(x) 개선\n",
    "    optimizer.zero_grad()\n",
    "    cost.backward()\n",
    "    optimizer.step()\n",
    "\n",
    "    # 100번마다 로그 출력\n",
    "    if epoch % 100 == 0:\n",
    "        print('Epoch {:4d}/{} w1: {:.3f} w2: {:.3f} w3: {:.3f} b: {:.3f} Cost: {:.6f}'.format(\n",
    "            epoch, nb_epochs, w1.item(), w3.item(), w3.item(), b.item(), cost.item()\n",
    "        ))"
   ]
  },
  {
   "cell_type": "markdown",
   "metadata": {
    "heading_collapsed": true,
    "hidden": true
   },
   "source": [
    "## Matrix Data"
   ]
  },
  {
   "cell_type": "markdown",
   "metadata": {
    "hidden": true
   },
   "source": [
    "$$\n",
    "\\begin{pmatrix}\n",
    "x_1 &amp; x_2 &amp; x_3\n",
    "\\end{pmatrix}\n",
    "\\cdot\n",
    "\\begin{pmatrix}\n",
    "w_1 \\\\\n",
    "w_2 \\\\\n",
    "w_3 \\\\\n",
    "\\end{pmatrix}\n",
    "=\n",
    "\\begin{pmatrix}\n",
    "x_1w_1 + x_2w_2 + x_3w_3\n",
    "\\end{pmatrix}\n",
    "$$\n",
    "$$ H(X) = XW $$\n",
    "\n",
    "위에서 한 행씩 입력했던 데이터를 행렬로 만들어 한번에 계산하자"
   ]
  },
  {
   "cell_type": "code",
   "execution_count": 35,
   "metadata": {
    "hidden": true
   },
   "outputs": [
    {
     "name": "stdout",
     "output_type": "stream",
     "text": [
      "torch.Size([5, 3])\n",
      "torch.Size([5, 1])\n"
     ]
    }
   ],
   "source": [
    "x_train = torch.FloatTensor([[73, 80, 75],\n",
    "                             [93, 88, 93],\n",
    "                             [89, 91, 90],\n",
    "                             [96, 98, 100],\n",
    "                             [73, 66, 70]])\n",
    "y_train = torch.FloatTensor([[152], [185], [180], [196], [142]])\n",
    "\n",
    "\n",
    "print(x_train.shape)\n",
    "print(y_train.shape)"
   ]
  },
  {
   "cell_type": "code",
   "execution_count": 36,
   "metadata": {
    "hidden": true,
    "scrolled": true
   },
   "outputs": [
    {
     "name": "stdout",
     "output_type": "stream",
     "text": [
      "Epoch    0/1000 hypothesis: tensor([0., 0., 0., 0., 0.]) Cost: 29661.800781\n",
      "Epoch  100/1000 hypothesis: tensor([152.7691, 183.6985, 180.9591, 197.0627, 140.1336]) Cost: 1.563634\n",
      "Epoch  200/1000 hypothesis: tensor([152.7273, 183.7273, 180.9465, 197.0517, 140.1731]) Cost: 1.497608\n",
      "Epoch  300/1000 hypothesis: tensor([152.6866, 183.7554, 180.9343, 197.0409, 140.2116]) Cost: 1.435026\n",
      "Epoch  400/1000 hypothesis: tensor([152.6470, 183.7827, 180.9224, 197.0304, 140.2491]) Cost: 1.375730\n",
      "Epoch  500/1000 hypothesis: tensor([152.6085, 183.8093, 180.9108, 197.0201, 140.2856]) Cost: 1.319511\n",
      "Epoch  600/1000 hypothesis: tensor([152.5711, 183.8352, 180.8996, 197.0101, 140.3211]) Cost: 1.266222\n",
      "Epoch  700/1000 hypothesis: tensor([152.5346, 183.8604, 180.8887, 197.0003, 140.3558]) Cost: 1.215696\n",
      "Epoch  800/1000 hypothesis: tensor([152.4992, 183.8849, 180.8781, 196.9908, 140.3895]) Cost: 1.167818\n",
      "Epoch  900/1000 hypothesis: tensor([152.4647, 183.9087, 180.8677, 196.9814, 140.4223]) Cost: 1.122429\n",
      "Epoch 1000/1000 hypothesis: tensor([152.4312, 183.9319, 180.8577, 196.9723, 140.4543]) Cost: 1.079378\n"
     ]
    }
   ],
   "source": [
    "# 모델 초기화\n",
    "W = torch.zeros((3, 1), requires_grad=True)\n",
    "b = torch.zeros(1, requires_grad=True)\n",
    "\n",
    "# optimizer 설정\n",
    "optimizer = optim.SGD([W, b], lr=1e-5)\n",
    "\n",
    "nb_epochs = 1000\n",
    "for epoch in range(nb_epochs + 1):\n",
    "    \n",
    "    # H(x) 계산\n",
    "    hypothesis = x_train.matmul(W) + b # or .mm or @\n",
    "\n",
    "    # cost 계산\n",
    "    cost = torch.mean((hypothesis - y_train) ** 2)\n",
    "\n",
    "    # cost로 H(x) 개선\n",
    "    optimizer.zero_grad()\n",
    "    cost.backward()\n",
    "    optimizer.step()\n",
    "\n",
    "    if epoch % 100 == 0:\n",
    "        print('Epoch {:4d}/{} hypothesis: {} Cost: {:.6f}'.format(\n",
    "            epoch, nb_epochs, hypothesis.squeeze().detach(), cost.item()\n",
    "        ))"
   ]
  },
  {
   "cell_type": "markdown",
   "metadata": {
    "heading_collapsed": true
   },
   "source": [
    "# Multivariable LInear Regression_nn.Module"
   ]
  },
  {
   "cell_type": "markdown",
   "metadata": {
    "heading_collapsed": true,
    "hidden": true
   },
   "source": [
    "## 모델 정의"
   ]
  },
  {
   "cell_type": "code",
   "execution_count": 37,
   "metadata": {
    "hidden": true
   },
   "outputs": [],
   "source": [
    "# MultivariateLinearRegressionModel은 단순Linear Regression모델과 다르게 입력 차원이 늘어나기 때문에 nn.Linear() 의 값 조정이 필요하다\n",
    "class MultivariateLinearRegressionModel(nn.Module):\n",
    "    def __init__(self):\n",
    "        super().__init__()\n",
    "        self.linear = nn.Linear(3, 1) # 입력 차원, 출력 차원\n",
    "\n",
    "    def forward(self, x):\n",
    "        return self.linear(x)"
   ]
  },
  {
   "cell_type": "markdown",
   "metadata": {
    "heading_collapsed": true,
    "hidden": true
   },
   "source": [
    "## train"
   ]
  },
  {
   "cell_type": "code",
   "execution_count": 40,
   "metadata": {
    "hidden": true,
    "scrolled": true
   },
   "outputs": [
    {
     "name": "stdout",
     "output_type": "stream",
     "text": [
      "Epoch    0/10000 Cost: 39633.414062\n",
      "Epoch  100/10000 Cost: 11.480746\n",
      "Epoch  200/10000 Cost: 10.894592\n",
      "Epoch  300/10000 Cost: 10.339335\n",
      "Epoch  400/10000 Cost: 9.813350\n",
      "Epoch  500/10000 Cost: 9.315010\n",
      "Epoch  600/10000 Cost: 8.842962\n",
      "Epoch  700/10000 Cost: 8.395752\n",
      "Epoch  800/10000 Cost: 7.972028\n",
      "Epoch  900/10000 Cost: 7.570637\n",
      "Epoch 1000/10000 Cost: 7.190376\n",
      "Epoch 1100/10000 Cost: 6.830142\n",
      "Epoch 1200/10000 Cost: 6.488811\n",
      "Epoch 1300/10000 Cost: 6.165472\n",
      "Epoch 1400/10000 Cost: 5.859105\n",
      "Epoch 1500/10000 Cost: 5.568910\n",
      "Epoch 1600/10000 Cost: 5.293930\n",
      "Epoch 1700/10000 Cost: 5.033409\n",
      "Epoch 1800/10000 Cost: 4.786576\n",
      "Epoch 1900/10000 Cost: 4.552718\n",
      "Epoch 2000/10000 Cost: 4.331151\n",
      "Epoch 2100/10000 Cost: 4.121226\n",
      "Epoch 2200/10000 Cost: 3.922322\n",
      "Epoch 2300/10000 Cost: 3.733857\n",
      "Epoch 2400/10000 Cost: 3.555312\n",
      "Epoch 2500/10000 Cost: 3.386099\n",
      "Epoch 2600/10000 Cost: 3.225775\n",
      "Epoch 2700/10000 Cost: 3.073870\n",
      "Epoch 2800/10000 Cost: 2.929914\n",
      "Epoch 2900/10000 Cost: 2.793547\n",
      "Epoch 3000/10000 Cost: 2.664297\n",
      "Epoch 3100/10000 Cost: 2.541810\n",
      "Epoch 3200/10000 Cost: 2.425748\n",
      "Epoch 3300/10000 Cost: 2.315744\n",
      "Epoch 3400/10000 Cost: 2.211528\n",
      "Epoch 3500/10000 Cost: 2.112748\n",
      "Epoch 3600/10000 Cost: 2.019129\n",
      "Epoch 3700/10000 Cost: 1.930416\n",
      "Epoch 3800/10000 Cost: 1.846316\n",
      "Epoch 3900/10000 Cost: 1.766627\n",
      "Epoch 4000/10000 Cost: 1.691078\n",
      "Epoch 4100/10000 Cost: 1.619483\n",
      "Epoch 4200/10000 Cost: 1.551629\n",
      "Epoch 4300/10000 Cost: 1.487283\n",
      "Epoch 4400/10000 Cost: 1.426332\n",
      "Epoch 4500/10000 Cost: 1.368495\n",
      "Epoch 4600/10000 Cost: 1.313692\n",
      "Epoch 4700/10000 Cost: 1.261745\n",
      "Epoch 4800/10000 Cost: 1.212475\n",
      "Epoch 4900/10000 Cost: 1.165784\n",
      "Epoch 5000/10000 Cost: 1.121489\n",
      "Epoch 5100/10000 Cost: 1.079495\n",
      "Epoch 5200/10000 Cost: 1.039680\n",
      "Epoch 5300/10000 Cost: 1.001911\n",
      "Epoch 5400/10000 Cost: 0.966106\n",
      "Epoch 5500/10000 Cost: 0.932152\n",
      "Epoch 5600/10000 Cost: 0.899925\n",
      "Epoch 5700/10000 Cost: 0.869373\n",
      "Epoch 5800/10000 Cost: 0.840380\n",
      "Epoch 5900/10000 Cost: 0.812890\n",
      "Epoch 6000/10000 Cost: 0.786790\n",
      "Epoch 6100/10000 Cost: 0.762051\n",
      "Epoch 6200/10000 Cost: 0.738549\n",
      "Epoch 6300/10000 Cost: 0.716268\n",
      "Epoch 6400/10000 Cost: 0.695110\n",
      "Epoch 6500/10000 Cost: 0.675036\n",
      "Epoch 6600/10000 Cost: 0.655980\n",
      "Epoch 6700/10000 Cost: 0.637870\n",
      "Epoch 6800/10000 Cost: 0.620698\n",
      "Epoch 6900/10000 Cost: 0.604385\n",
      "Epoch 7000/10000 Cost: 0.588892\n",
      "Epoch 7100/10000 Cost: 0.574179\n",
      "Epoch 7200/10000 Cost: 0.560198\n",
      "Epoch 7300/10000 Cost: 0.546920\n",
      "Epoch 7400/10000 Cost: 0.534309\n",
      "Epoch 7500/10000 Cost: 0.522320\n",
      "Epoch 7600/10000 Cost: 0.510916\n",
      "Epoch 7700/10000 Cost: 0.500094\n",
      "Epoch 7800/10000 Cost: 0.489794\n",
      "Epoch 7900/10000 Cost: 0.480005\n",
      "Epoch 8000/10000 Cost: 0.470682\n",
      "Epoch 8100/10000 Cost: 0.461824\n",
      "Epoch 8200/10000 Cost: 0.453392\n",
      "Epoch 8300/10000 Cost: 0.445367\n",
      "Epoch 8400/10000 Cost: 0.437734\n",
      "Epoch 8500/10000 Cost: 0.430471\n",
      "Epoch 8600/10000 Cost: 0.423550\n",
      "Epoch 8700/10000 Cost: 0.416958\n",
      "Epoch 8800/10000 Cost: 0.410672\n",
      "Epoch 8900/10000 Cost: 0.404687\n",
      "Epoch 9000/10000 Cost: 0.398981\n",
      "Epoch 9100/10000 Cost: 0.393544\n",
      "Epoch 9200/10000 Cost: 0.388351\n",
      "Epoch 9300/10000 Cost: 0.383397\n",
      "Epoch 9400/10000 Cost: 0.378671\n",
      "Epoch 9500/10000 Cost: 0.374172\n",
      "Epoch 9600/10000 Cost: 0.369860\n",
      "Epoch 9700/10000 Cost: 0.365753\n",
      "Epoch 9800/10000 Cost: 0.361819\n",
      "Epoch 9900/10000 Cost: 0.358053\n",
      "Epoch 10000/10000 Cost: 0.354469\n"
     ]
    }
   ],
   "source": [
    "# 데이터\n",
    "x_train = torch.FloatTensor([[73, 80, 75],\n",
    "                             [93, 88, 93],\n",
    "                             [89, 91, 90],\n",
    "                             [96, 98, 100],\n",
    "                             [73, 66, 70]])\n",
    "y_train = torch.FloatTensor([[152], [185], [180], [196], [142]])\n",
    "\n",
    "\n",
    "# 모델 초기화\n",
    "model = MultivariateLinearRegressionModel()\n",
    "\n",
    "\n",
    "# optimizer 설정\n",
    "optimizer = optim.SGD(model.parameters(), lr=1e-5)\n",
    "\n",
    "\n",
    "nb_epochs = 10000\n",
    "cost_value = []\n",
    "for epoch in range(nb_epochs+1):\n",
    "    \n",
    "    # H(x) 계산\n",
    "    prediction = model(x_train)\n",
    "    \n",
    "    # cost 계산\n",
    "    # cost 계산 방법 변경 및 디버깅에 용이해서 cost 함수가 아닌 function 사용\n",
    "    cost = F.mse_loss(prediction, y_train)\n",
    "    \n",
    "    # cost로 H(x) 개선\n",
    "    optimizer.zero_grad()\n",
    "    cost.backward()\n",
    "    optimizer.step()\n",
    "    \n",
    "    cost_value.append(cost)\n",
    "    \n",
    "    if epoch % 100 == 0:\n",
    "        print('Epoch {:4d}/{} Cost: {:.6f}'.format(\n",
    "            epoch, nb_epochs, cost.item()\n",
    "        ))"
   ]
  },
  {
   "cell_type": "code",
   "execution_count": 41,
   "metadata": {
    "hidden": true,
    "scrolled": true
   },
   "outputs": [
    {
     "data": {
      "text/plain": [
       "[<matplotlib.lines.Line2D at 0x274ae740f40>]"
      ]
     },
     "execution_count": 41,
     "metadata": {},
     "output_type": "execute_result"
    },
    {
     "data": {
      "image/png": "[encoded data removed]",
      "text/plain": [
       "<Figure size 432x288 with 1 Axes>"
      ]
     },
     "metadata": {
      "needs_background": "light"
     },
     "output_type": "display_data"
    }
   ],
   "source": [
    "plt.plot(cost_value[10:])"
   ]
  },
  {
   "cell_type": "markdown",
   "metadata": {
    "heading_collapsed": true,
    "hidden": true
   },
   "source": [
    "## Minibatch\n"
   ]
  },
  {
   "attachments": {
    "image.png": {
     "image/png": "[encoded data removed]"
    }
   },
   "cell_type": "markdown",
   "metadata": {
    "hidden": true
   },
   "source": [
    "\n",
    "데이터 양이 방대하여 한 번에 학습이 불가능하거나 시간이 오래 걸리는 경우가 있다.\n",
    "\n",
    "따라서 전체 데이터를 균일하게 나누어 하나씩 minibatch를 수행해보자.\n",
    "\n",
    "![image.png](attachment:image.png)\n",
    "\n",
    "효과 : 업데이트를 좀 더 빠르게 할 수 있다\n",
    "\n",
    "주의 : 전체 데이터를 쓰지 않아서 매끄럽게 cost가 줄어들지는 않는다."
   ]
  },
  {
   "cell_type": "code",
   "execution_count": 42,
   "metadata": {
    "hidden": true
   },
   "outputs": [],
   "source": [
    "from torch.utils.data import Dataset\n",
    "\n",
    "class CustomDataset(Dataset) :\n",
    "    def __init__(self) :\n",
    "        self.x_data = [[73, 80, 75],\n",
    "                     [93, 88, 93],\n",
    "                     [89, 91, 90],\n",
    "                     [96, 98, 100],\n",
    "                     [73, 66, 70]]\n",
    "        self.y_data = [[152], [185], [180], [196], [142]]\n",
    "    \n",
    "    \n",
    "    # 데이터셋의 총 데이터 수\n",
    "    def __len__(self) :\n",
    "        return len(self.x_data)\n",
    "    \n",
    "    # 어떠한 인덱스 idx를 받았을 때, 그에 상응하는 입출력 데이터 반환\n",
    "    def __getitem__(self, idx) :\n",
    "        x = torch.FloatTensor(self.x_data[idx])\n",
    "        y = torch.FloatTensor(self.y_data[idx])\n",
    "        \n",
    "        return x, y\n",
    "    \n",
    "    \n",
    "dataset = CustomDataset()\n",
    "\n",
    "from torch.utils.data import DataLoader\n",
    "\n",
    "dataloader = DataLoader(\n",
    "                dataset,\n",
    "                batch_size = 2, # 각 minibatch의 크기 ( 통상적으로 2의 제곱수로 설정 )\n",
    "                shuffle=True) # epoch마다 데이터셋을 섞어서 데이터 학습순서 변경"
   ]
  },
  {
   "cell_type": "code",
   "execution_count": 47,
   "metadata": {
    "hidden": true,
    "scrolled": true
   },
   "outputs": [
    {
     "name": "stdout",
     "output_type": "stream",
     "text": [
      "Epoch    0/1000 Cost: 72122.617188\n",
      "Epoch    0/1000 Cost: 22521.603516\n",
      "Epoch    0/1000 Cost: 8282.226562\n",
      "Epoch 1000/1000 Cost: 0.224621\n",
      "Epoch 1000/1000 Cost: 3.068653\n",
      "Epoch 1000/1000 Cost: 1.228750\n"
     ]
    }
   ],
   "source": [
    "# 모델 초기화\n",
    "model = MultivariateLinearRegressionModel()\n",
    "\n",
    "\n",
    "# optimizer 설정\n",
    "optimizer = optim.SGD(model.parameters(), lr=1e-5)\n",
    "\n",
    "nb_epochs = 1000\n",
    "cost_value = []\n",
    "for epoch in range(nb_epochs + 1):\n",
    "    for batch_idx, samples in enumerate(dataloader) :\n",
    "        x_train, y_train = samples\n",
    "        \n",
    "        # H(x) 계산\n",
    "        prediction = model(x_train) # or .mm or @\n",
    "\n",
    "        # cost 계산\n",
    "        cost = F.mse_loss(prediction, y_train)\n",
    "\n",
    "        # cost로 H(x) 개선\n",
    "        optimizer.zero_grad()\n",
    "        cost.backward()\n",
    "        optimizer.step()\n",
    "        \n",
    "        # 그래프로 확인하기 위해서\n",
    "        cost_value.append(cost)\n",
    "        \n",
    "        if epoch % 1000 == 0 :\n",
    "            \n",
    "            print('Epoch {:4d}/{} Cost: {:.6f}'.format(\n",
    "                epoch, nb_epochs, cost.item()))"
   ]
  },
  {
   "cell_type": "code",
   "execution_count": 48,
   "metadata": {
    "hidden": true,
    "scrolled": true
   },
   "outputs": [
    {
     "data": {
      "text/plain": [
       "[<matplotlib.lines.Line2D at 0x274b6c9e070>]"
      ]
     },
     "execution_count": 48,
     "metadata": {},
     "output_type": "execute_result"
    },
    {
     "data": {
      "image/png": "[encoded data removed]",
      "text/plain": [
       "<Figure size 432x288 with 1 Axes>"
      ]
     },
     "metadata": {
      "needs_background": "light"
     },
     "output_type": "display_data"
    }
   ],
   "source": [
    "plt.plot(cost_value[10:])"
   ]
  },
  {
   "cell_type": "markdown",
   "metadata": {
    "hidden": true
   },
   "source": [
    " cost값이 어느정도 줄어들고 나서 확인하면 점차 줄어드는 것을 알 수 있다."
   ]
  }
 ],
 "metadata": {
  "kernelspec": {
   "display_name": "Python 3",
   "language": "python",
   "name": "python3"
  },
  "language_info": {
   "codemirror_mode": {
    "name": "ipython",
    "version": 3
   },
   "file_extension": ".py",
   "mimetype": "text/x-python",
   "name": "python",
   "nbconvert_exporter": "python",
   "pygments_lexer": "ipython3",
   "version": "3.8.5"
  },
  "toc": {
   "base_numbering": 1,
   "nav_menu": {},
   "number_sections": true,
   "sideBar": true,
   "skip_h1_title": false,
   "title_cell": "Table of Contents",
   "title_sidebar": "Contents",
   "toc_cell": false,
   "toc_position": {
    "height": "calc(100% - 180px)",
    "left": "10px",
    "top": "150px",
    "width": "196.594px"
   },
   "toc_section_display": true,
   "toc_window_display": true
  }
 },
 "nbformat": 4,
 "nbformat_minor": 4
}
