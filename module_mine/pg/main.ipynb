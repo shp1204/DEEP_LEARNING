{
 "cells": [
  {
   "cell_type": "markdown",
   "metadata": {},
   "source": [
    "# 데이터 pickle로 저장"
   ]
  },
  {
   "cell_type": "code",
   "execution_count": 7,
   "metadata": {},
   "outputs": [],
   "source": [
    "import pickle"
   ]
  },
  {
   "cell_type": "code",
   "execution_count": 11,
   "metadata": {
    "code_folding": []
   },
   "outputs": [],
   "source": [
    "graph_data = {\n",
    "    'graph1' : {'edges' : [[0, 1], [2, 3], [1, 4], [3, 4], [4, 5], [4, 6]],\n",
    "                'features' : [[1, 0, 0, 0], [0, 1, 0, 0], [1, 0, 0, 0], [0, 1, 0, 0], [0, 0, 1, 0], [0, 0, 0, 1], [0, 0, 0, 1]],\n",
    "                'edge_features' : [[3], [5], [1], [10], [6], [8]],\n",
    "                'labels' : [1, 4, 5, 2, 6, 3, 0]},\n",
    "    \n",
    "    'graph2' : {'edges' : [[0,1], [1,2], [2,4], [3,4], [4,5], [5,6], [5,7]],\n",
    "              'features' :[[1,2,3],[2,3,5],[1,3,7],[4,5,7],[0,2,3],[5,6,7],[8,3,1],[9,5,7]],\n",
    "              'edge_features' :[[0],[0],[1],[2],[6],[4],[10]],\n",
    "              'labels' : [2, 3, 5, 0, 7, 4, 2, 10]},\n",
    "    \n",
    "    'graph3': {'edges' :[[0,1],[1,2],[2,3],[3,4],[3,5],[3,6],[4,7],[5,8],[6,9],[9,10]],\n",
    "              'features' :[[5,3,2],[1,5,7],[6,5,8],[9,8,2],[5,6,2],[8,6,5],[3,4,7],[9,1,4],[7,7,3],[1,6,5],[9,10,1]],\n",
    "              'edge_features' :[[2],[1],[3],[15],[7],[9],[5],[8],[3],[6]],\n",
    "              'labels' :[1, 1, 3, 1, 4, 2, 9, 12, 5, 6, 13]},\n",
    "    \n",
    "    'graph4' : {'edges' : [[0,1], [1,3], [3,5],[2,5],[4,5],[5,6],[6,7],[6,8],[8,9],[8,10],[9,11],[9,12]],\n",
    "               'features' : [[1,0],[2,3],[3,7],[6,9],[5,1],[2,8],[9,3],[4,7],[0,0],[2,9],[7,5],[6,2],[7,1]],\n",
    "               'edge_features' : [[1,2,3],[4,7,6],[5,4,2],[0,3,2],[1,7,3],[7,5,2],[9,1,10],[4,3,2],[7,6,1],[3,2,1],[1,1,1],[2,7,3]],\n",
    "               'labels' : [1,2,7,3,2,4,5,7,9,6,8,0,0]}\n",
    "#     'graph4' : {'edges' : ,\n",
    "#                'features' : ,\n",
    "#                'edge_features' : ,\n",
    "#                'labels' : }\n",
    "}"
   ]
  },
  {
   "cell_type": "code",
   "execution_count": 13,
   "metadata": {},
   "outputs": [],
   "source": [
    "graph_all = {}\n",
    "for idx in range(1, 5):\n",
    "    path = './data/graph'\n",
    "    with open(path + str(idx) + '.txt', 'wb') as fw:\n",
    "        pickle.dump(graph_data['graph'+str(idx)], fw)\n",
    "    with open(path + str(idx) + '.txt', 'rb') as rf:\n",
    "        graph_all['graph'+str(idx)] = pickle.load(rf)"
   ]
  },
  {
   "cell_type": "code",
   "execution_count": 7,
   "metadata": {},
   "outputs": [
    {
     "data": {
      "text/plain": [
       "{'edges': [[0, 1], [2, 3], [1, 4], [3, 4], [4, 5], [4, 6]],\n",
       " 'features': [[1, 0, 0, 0],\n",
       "  [0, 1, 0, 0],\n",
       "  [1, 0, 0, 0],\n",
       "  [0, 1, 0, 0],\n",
       "  [0, 0, 1, 0],\n",
       "  [0, 0, 0, 1],\n",
       "  [0, 0, 0, 1]],\n",
       " 'edge_features': [[3], [5], [1], [10], [6], [8]],\n",
       " 'labels': [1, 4, 5, 2, 6, 3, 0]}"
      ]
     },
     "execution_count": 7,
     "metadata": {},
     "output_type": "execute_result"
    }
   ],
   "source": [
    "graph_all['graph'+str(1)]"
   ]
  },
  {
   "cell_type": "code",
   "execution_count": null,
   "metadata": {},
   "outputs": [],
   "source": []
  }
 ],
 "metadata": {
  "kernelspec": {
   "display_name": "Python 3",
   "language": "python",
   "name": "python3"
  },
  "language_info": {
   "codemirror_mode": {
    "name": "ipython",
    "version": 3
   },
   "file_extension": ".py",
   "mimetype": "text/x-python",
   "name": "python",
   "nbconvert_exporter": "python",
   "pygments_lexer": "ipython3",
   "version": "3.8.5"
  },
  "toc": {
   "base_numbering": 1,
   "nav_menu": {},
   "number_sections": true,
   "sideBar": true,
   "skip_h1_title": false,
   "title_cell": "Table of Contents",
   "title_sidebar": "Contents",
   "toc_cell": false,
   "toc_position": {},
   "toc_section_display": true,
   "toc_window_display": false
  }
 },
 "nbformat": 4,
 "nbformat_minor": 4
}
