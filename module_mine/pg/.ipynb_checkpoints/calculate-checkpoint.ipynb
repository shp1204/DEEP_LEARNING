{
 "cells": [
  {
   "cell_type": "code",
   "execution_count": null,
   "metadata": {},
   "outputs": [],
   "source": [
    "import numpy as np\n",
    "import torch\n",
    "\n",
    "class calculate(torch.nn.Module):\n",
    "\n",
    "    def __init__(self, method, new_features):\n",
    "\n",
    "        self.method = method\n",
    "        self.new_features = new_features\n",
    "\n",
    "    def cal(self):\n",
    "\n",
    "        cal_result = []\n",
    "        if self.method == 'sum':\n",
    "            for idx in self.new_features:\n",
    "                if len(idx) >= 2:\n",
    "                    cal_result.append([sum(idx)])\n",
    "                else:\n",
    "                    cal_result.append(idx)\n",
    "        elif self.method == 'mean':\n",
    "            for idx in self.new_features:\n",
    "                if len(idx) >= 2:\n",
    "                    cal_result.append([np.mean(idx)])\n",
    "                else:\n",
    "                    cal_result.append(idx)\n",
    "        elif self.method == 'min':\n",
    "            for idx in self.new_features:\n",
    "                if len(idx) >= 2:\n",
    "                    cal_result.append([min(idx)])\n",
    "                else:\n",
    "                    cal_result.append(idx)\n",
    "        elif self.method == 'max':\n",
    "            for idx in self.new_features:\n",
    "                if len(idx) >= 2:\n",
    "                    cal_result.append([max(idx)])\n",
    "                else:\n",
    "                    cal_result.append(idx)\n",
    "        else:\n",
    "            print('Not expected method. Expected [sum, mean, min, max].')\n",
    "\n",
    "        return cal_result"
   ]
  }
 ],
 "metadata": {
  "kernelspec": {
   "display_name": "Python 3",
   "language": "python",
   "name": "python3"
  },
  "language_info": {
   "codemirror_mode": {
    "name": "ipython",
    "version": 3
   },
   "file_extension": ".py",
   "mimetype": "text/x-python",
   "name": "python",
   "nbconvert_exporter": "python",
   "pygments_lexer": "ipython3",
   "version": "3.8.5"
  },
  "toc": {
   "base_numbering": 1,
   "nav_menu": {},
   "number_sections": true,
   "sideBar": true,
   "skip_h1_title": false,
   "title_cell": "Table of Contents",
   "title_sidebar": "Contents",
   "toc_cell": false,
   "toc_position": {},
   "toc_section_display": true,
   "toc_window_display": false
  }
 },
 "nbformat": 4,
 "nbformat_minor": 4
}
