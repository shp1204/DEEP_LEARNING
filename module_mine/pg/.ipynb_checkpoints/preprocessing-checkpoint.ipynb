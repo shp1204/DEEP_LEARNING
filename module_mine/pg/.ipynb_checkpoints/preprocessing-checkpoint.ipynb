{
 "cells": [
  {
   "cell_type": "code",
   "execution_count": 1,
   "metadata": {},
   "outputs": [
    {
     "ename": "ModuleNotFoundError",
     "evalue": "No module named 'calculate'",
     "output_type": "error",
     "traceback": [
      "\u001b[1;31m---------------------------------------------------------------------------\u001b[0m",
      "\u001b[1;31mModuleNotFoundError\u001b[0m                       Traceback (most recent call last)",
      "\u001b[1;32m<ipython-input-1-c4557ea0b237>\u001b[0m in \u001b[0;36m<module>\u001b[1;34m\u001b[0m\n\u001b[1;32m----> 1\u001b[1;33m \u001b[1;32mfrom\u001b[0m \u001b[0mcalculate\u001b[0m \u001b[1;32mimport\u001b[0m \u001b[1;33m*\u001b[0m\u001b[1;33m\u001b[0m\u001b[1;33m\u001b[0m\u001b[0m\n\u001b[0m",
      "\u001b[1;31mModuleNotFoundError\u001b[0m: No module named 'calculate'"
     ]
    }
   ],
   "source": [
    "import torch.nn as nn\n",
    "import scipy.sparse as sp\n",
    "import numpy as np\n",
    "from calculate import *\n",
    "\n",
    "# input : rawA, self.new_features, edge_F, method\n",
    "class preprocessing(nn.Module):\n",
    "    def __init__(self, A, F, edge_F, method):\n",
    "        super(preprocessing, self).__init__()\n",
    "\n",
    "        self.A = A\n",
    "        self.F = F\n",
    "        self.edge_F = edge_F\n",
    "        self.method = method\n",
    "\n",
    "    ## 단위행렬 더하는 과정\n",
    "    def coo(self):\n",
    "        self.adj = sp.coo_matrix((np.ones(self.A.shape[0]),\n",
    "                                  (self.A[:, 0], self.A[:, 1])),\n",
    "                            shape=(self.F.shape[0], self.F.shape[0]),\n",
    "                            dtype=np.float32)\n",
    "        self.adj = self.adj + sp.eye(self.adj.shape[0])\n",
    "        return self.adj\n",
    "\n",
    "    ## features와 edge_features를 한 matrix로 결합하기 위한 전처리\n",
    "    def convert(self):\n",
    "\n",
    "        ### 현재 feature 사이즈의 array 생성\n",
    "        self.new_features = [[0]] * self.F.shape[0]\n",
    "\n",
    "        for idx, A_idx in enumerate(self.A):\n",
    "\n",
    "            # 해당 edge(3, 4) 중 3에 edge_feature를 할당\n",
    "            edge_info = A_idx[0]\n",
    "\n",
    "            # 정보를 여러개 갖고 있을 경우, 기존 정보에 update 해준다\n",
    "            if self.new_features[edge_info] != [0]:\n",
    "                self.new_features[edge_info].append(self.edge_F[idx][0])\n",
    "            # 정보가 없는 경우는 0 대신 채워준다\n",
    "            else:\n",
    "                self.new_features[self.A[idx][0]] = self.edge_F[idx]\n",
    "\n",
    "        # 입력받은 calculate 방법에 따라 중복된 값 처리\n",
    "        self.new_features = calculate(self.method, self.new_features).cal()\n",
    "        return self.new_features"
   ]
  }
 ],
 "metadata": {
  "kernelspec": {
   "display_name": "Python 3",
   "language": "python",
   "name": "python3"
  },
  "language_info": {
   "codemirror_mode": {
    "name": "ipython",
    "version": 3
   },
   "file_extension": ".py",
   "mimetype": "text/x-python",
   "name": "python",
   "nbconvert_exporter": "python",
   "pygments_lexer": "ipython3",
   "version": "3.8.5"
  },
  "toc": {
   "base_numbering": 1,
   "nav_menu": {},
   "number_sections": true,
   "sideBar": true,
   "skip_h1_title": false,
   "title_cell": "Table of Contents",
   "title_sidebar": "Contents",
   "toc_cell": false,
   "toc_position": {},
   "toc_section_display": true,
   "toc_window_display": false
  }
 },
 "nbformat": 4,
 "nbformat_minor": 4
}
