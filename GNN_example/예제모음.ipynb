{
 "cells": [
  {
   "cell_type": "markdown",
   "metadata": {
    "heading_collapsed": true
   },
   "source": [
    "# 예제 1"
   ]
  },
  {
   "cell_type": "markdown",
   "metadata": {
    "hidden": true
   },
   "source": [
    "Cora Dataset : 2708개의 논문들이 서로 어떤 관계로 cited 되었고, 어떤 단어가 포함되었는지에 관한 데이터셋\n",
    "\n",
    "content file : 논문 id / 논문 feature 정보(1443개단어) / 논문 장르\n",
    "\n",
    "cited file : 참조된 논문 -> 참조한 논문 ( 개별 edge 정보만 담고 있기 때문에 매트릭스로 가공해야 한다. )\n",
    "\n",
    "https://github.com/tkipf/pygcn\n",
    "\n",
    "https://chioni.github.io/posts/gnn/"
   ]
  },
  {
   "cell_type": "code",
   "execution_count": 2,
   "metadata": {
    "hidden": true
   },
   "outputs": [],
   "source": [
    "import numpy as np\n",
    "import scipy.sparse as sp\n",
    "import torch"
   ]
  },
  {
   "cell_type": "code",
   "execution_count": 3,
   "metadata": {
    "hidden": true
   },
   "outputs": [],
   "source": [
    "def encode_onehot(labels):\n",
    "    classes = set(labels)\n",
    "    classes_dict = {c: np.identity(len(classes))[i, :] for i, c in enumerate(classes)}\n",
    "    labels_onehot = np.array(list(map(classes_dict.get, labels)), dtype=np.int32)\n",
    "    return labels_onehot"
   ]
  },
  {
   "cell_type": "code",
   "execution_count": 4,
   "metadata": {
    "hidden": true
   },
   "outputs": [],
   "source": [
    "def load_data(path=\"./data/cora/\", dataset=\"cora\"):\n",
    "    \n",
    "    \"\"\"Load citation network dataset (cora only for now)\"\"\"\n",
    "    print('Loading {} dataset...'.format(dataset))\n",
    "\n",
    "    \n",
    "    idx_features_labels = np.genfromtxt(\"{}{}.content\".format(path, dataset), dtype=np.dtype(str)) # np.genfromtxt : 텍스트 파일 읽기\n",
    "    features = sp.csr_matrix(idx_features_labels[:, 1:-1], dtype=np.float32) # 희소행렬\n",
    "    labels = encode_onehot(idx_features_labels[:, -1]) # 원핫인코딩\n",
    "\n",
    "    # build graph\n",
    "    idx = np.array(idx_features_labels[:, 0], dtype=np.int32)\n",
    "    idx_map = {j: i for i, j in enumerate(idx)}\n",
    "    edges_unordered = np.genfromtxt(\"{}{}.cites\".format(path, dataset),\n",
    "                                    dtype=np.int32)\n",
    "    edges = np.array(list(map(idx_map.get, edges_unordered.flatten())),\n",
    "                     dtype=np.int32).reshape(edges_unordered.shape)\n",
    "    adj = sp.coo_matrix((np.ones(edges.shape[0]), (edges[:, 0], edges[:, 1])), # sp.coo_matrix : 매트릭스의 인덱스로 압축하여 저장\n",
    "                        shape=(labels.shape[0], labels.shape[0]),\n",
    "                        dtype=np.float32)\n",
    "\n",
    "    # build symmetric adjacency matrix\n",
    "    adj = adj + adj.T.multiply(adj.T > adj) - adj.multiply(adj.T > adj)\n",
    "\n",
    "    features = normalize(features)\n",
    "    adj = normalize(adj + sp.eye(adj.shape[0]))\n",
    "\n",
    "    idx_train = range(140)\n",
    "    idx_val = range(200, 500)\n",
    "    idx_test = range(500, 1500)\n",
    "\n",
    "    features = torch.FloatTensor(np.array(features.todense()))\n",
    "    labels = torch.LongTensor(np.where(labels)[1])\n",
    "    adj = sparse_mx_to_torch_sparse_tensor(adj)\n",
    "\n",
    "    idx_train = torch.LongTensor(idx_train)\n",
    "    idx_val = torch.LongTensor(idx_val)\n",
    "    idx_test = torch.LongTensor(idx_test)\n",
    "\n",
    "    return adj, features, labels, idx_train, idx_val, idx_test"
   ]
  },
  {
   "cell_type": "code",
   "execution_count": 5,
   "metadata": {
    "hidden": true
   },
   "outputs": [],
   "source": [
    "def normalize(mx):\n",
    "    \"\"\"Row-normalize sparse matrix\"\"\"\n",
    "    rowsum = np.array(mx.sum(1))\n",
    "    r_inv = np.power(rowsum, -1).flatten()\n",
    "    r_inv[np.isinf(r_inv)] = 0.\n",
    "    r_mat_inv = sp.diags(r_inv)\n",
    "    mx = r_mat_inv.dot(mx)\n",
    "    return mx"
   ]
  },
  {
   "cell_type": "code",
   "execution_count": 6,
   "metadata": {
    "hidden": true
   },
   "outputs": [],
   "source": [
    "def accuracy(output, labels):\n",
    "    preds = output.max(1)[1].type_as(labels)\n",
    "    correct = preds.eq(labels).double()\n",
    "    correct = correct.sum()\n",
    "    return correct / len(labels)"
   ]
  },
  {
   "cell_type": "code",
   "execution_count": 7,
   "metadata": {
    "hidden": true
   },
   "outputs": [],
   "source": [
    "def sparse_mx_to_torch_sparse_tensor(sparse_mx):\n",
    "    \"\"\"Convert a scipy sparse matrix to a torch sparse tensor.\"\"\"\n",
    "    sparse_mx = sparse_mx.tocoo().astype(np.float32)\n",
    "    indices = torch.from_numpy(\n",
    "        np.vstack((sparse_mx.row, sparse_mx.col)).astype(np.int64))\n",
    "    values = torch.from_numpy(sparse_mx.data)\n",
    "    shape = torch.Size(sparse_mx.shape)\n",
    "    return torch.sparse.FloatTensor(indices, values, shape)"
   ]
  },
  {
   "cell_type": "code",
   "execution_count": 8,
   "metadata": {
    "hidden": true
   },
   "outputs": [
    {
     "name": "stdout",
     "output_type": "stream",
     "text": [
      "Loading cora dataset...\n"
     ]
    }
   ],
   "source": [
    "A, features, labels, idx_train, idx_val, idx_test = load_data()"
   ]
  },
  {
   "cell_type": "code",
   "execution_count": 9,
   "metadata": {
    "hidden": true,
    "scrolled": true
   },
   "outputs": [
    {
     "name": "stdout",
     "output_type": "stream",
     "text": [
      "tensor(indices=tensor([[   0,    8,   14,  ..., 1389, 2344, 2707],\n",
      "                       [   0,    0,    0,  ..., 2707, 2707, 2707]]),\n",
      "       values=tensor([0.1667, 0.1667, 0.0500,  ..., 0.2000, 0.5000, 0.2500]),\n",
      "       size=(2708, 2708), nnz=13264, layout=torch.sparse_coo)\n",
      "torch.sparse_coo\n",
      "============ features =======\n",
      "tensor([[0., 0., 0.,  ..., 0., 0., 0.],\n",
      "        [0., 0., 0.,  ..., 0., 0., 0.],\n",
      "        [0., 0., 0.,  ..., 0., 0., 0.],\n",
      "        ...,\n",
      "        [0., 0., 0.,  ..., 0., 0., 0.],\n",
      "        [0., 0., 0.,  ..., 0., 0., 0.],\n",
      "        [0., 0., 0.,  ..., 0., 0., 0.]])\n",
      "============ labels =================\n",
      "tensor([4, 6, 5,  ..., 0, 2, 4])\n",
      "tensor([0, 1, 2, 3, 4, 5, 6])\n",
      "============ labels =================\n",
      "tensor([  0,   1,   2,   3,   4,   5,   6,   7,   8,   9,  10,  11,  12,  13,\n",
      "         14,  15,  16,  17,  18,  19,  20,  21,  22,  23,  24,  25,  26,  27,\n",
      "         28,  29,  30,  31,  32,  33,  34,  35,  36,  37,  38,  39,  40,  41,\n",
      "         42,  43,  44,  45,  46,  47,  48,  49,  50,  51,  52,  53,  54,  55,\n",
      "         56,  57,  58,  59,  60,  61,  62,  63,  64,  65,  66,  67,  68,  69,\n",
      "         70,  71,  72,  73,  74,  75,  76,  77,  78,  79,  80,  81,  82,  83,\n",
      "         84,  85,  86,  87,  88,  89,  90,  91,  92,  93,  94,  95,  96,  97,\n",
      "         98,  99, 100, 101, 102, 103, 104, 105, 106, 107, 108, 109, 110, 111,\n",
      "        112, 113, 114, 115, 116, 117, 118, 119, 120, 121, 122, 123, 124, 125,\n",
      "        126, 127, 128, 129, 130, 131, 132, 133, 134, 135, 136, 137, 138, 139])\n",
      "tensor([200, 201, 202, 203, 204, 205, 206, 207, 208, 209, 210, 211, 212, 213,\n",
      "        214, 215, 216, 217, 218, 219, 220, 221, 222, 223, 224, 225, 226, 227,\n",
      "        228, 229, 230, 231, 232, 233, 234, 235, 236, 237, 238, 239, 240, 241,\n",
      "        242, 243, 244, 245, 246, 247, 248, 249, 250, 251, 252, 253, 254, 255,\n",
      "        256, 257, 258, 259, 260, 261, 262, 263, 264, 265, 266, 267, 268, 269,\n",
      "        270, 271, 272, 273, 274, 275, 276, 277, 278, 279, 280, 281, 282, 283,\n",
      "        284, 285, 286, 287, 288, 289, 290, 291, 292, 293, 294, 295, 296, 297,\n",
      "        298, 299, 300, 301, 302, 303, 304, 305, 306, 307, 308, 309, 310, 311,\n",
      "        312, 313, 314, 315, 316, 317, 318, 319, 320, 321, 322, 323, 324, 325,\n",
      "        326, 327, 328, 329, 330, 331, 332, 333, 334, 335, 336, 337, 338, 339,\n",
      "        340, 341, 342, 343, 344, 345, 346, 347, 348, 349, 350, 351, 352, 353,\n",
      "        354, 355, 356, 357, 358, 359, 360, 361, 362, 363, 364, 365, 366, 367,\n",
      "        368, 369, 370, 371, 372, 373, 374, 375, 376, 377, 378, 379, 380, 381,\n",
      "        382, 383, 384, 385, 386, 387, 388, 389, 390, 391, 392, 393, 394, 395,\n",
      "        396, 397, 398, 399, 400, 401, 402, 403, 404, 405, 406, 407, 408, 409,\n",
      "        410, 411, 412, 413, 414, 415, 416, 417, 418, 419, 420, 421, 422, 423,\n",
      "        424, 425, 426, 427, 428, 429, 430, 431, 432, 433, 434, 435, 436, 437,\n",
      "        438, 439, 440, 441, 442, 443, 444, 445, 446, 447, 448, 449, 450, 451,\n",
      "        452, 453, 454, 455, 456, 457, 458, 459, 460, 461, 462, 463, 464, 465,\n",
      "        466, 467, 468, 469, 470, 471, 472, 473, 474, 475, 476, 477, 478, 479,\n",
      "        480, 481, 482, 483, 484, 485, 486, 487, 488, 489, 490, 491, 492, 493,\n",
      "        494, 495, 496, 497, 498, 499])\n",
      "tensor([ 500,  501,  502,  503,  504,  505,  506,  507,  508,  509,  510,  511,\n",
      "         512,  513,  514,  515,  516,  517,  518,  519,  520,  521,  522,  523,\n",
      "         524,  525,  526,  527,  528,  529,  530,  531,  532,  533,  534,  535,\n",
      "         536,  537,  538,  539,  540,  541,  542,  543,  544,  545,  546,  547,\n",
      "         548,  549,  550,  551,  552,  553,  554,  555,  556,  557,  558,  559,\n",
      "         560,  561,  562,  563,  564,  565,  566,  567,  568,  569,  570,  571,\n",
      "         572,  573,  574,  575,  576,  577,  578,  579,  580,  581,  582,  583,\n",
      "         584,  585,  586,  587,  588,  589,  590,  591,  592,  593,  594,  595,\n",
      "         596,  597,  598,  599,  600,  601,  602,  603,  604,  605,  606,  607,\n",
      "         608,  609,  610,  611,  612,  613,  614,  615,  616,  617,  618,  619,\n",
      "         620,  621,  622,  623,  624,  625,  626,  627,  628,  629,  630,  631,\n",
      "         632,  633,  634,  635,  636,  637,  638,  639,  640,  641,  642,  643,\n",
      "         644,  645,  646,  647,  648,  649,  650,  651,  652,  653,  654,  655,\n",
      "         656,  657,  658,  659,  660,  661,  662,  663,  664,  665,  666,  667,\n",
      "         668,  669,  670,  671,  672,  673,  674,  675,  676,  677,  678,  679,\n",
      "         680,  681,  682,  683,  684,  685,  686,  687,  688,  689,  690,  691,\n",
      "         692,  693,  694,  695,  696,  697,  698,  699,  700,  701,  702,  703,\n",
      "         704,  705,  706,  707,  708,  709,  710,  711,  712,  713,  714,  715,\n",
      "         716,  717,  718,  719,  720,  721,  722,  723,  724,  725,  726,  727,\n",
      "         728,  729,  730,  731,  732,  733,  734,  735,  736,  737,  738,  739,\n",
      "         740,  741,  742,  743,  744,  745,  746,  747,  748,  749,  750,  751,\n",
      "         752,  753,  754,  755,  756,  757,  758,  759,  760,  761,  762,  763,\n",
      "         764,  765,  766,  767,  768,  769,  770,  771,  772,  773,  774,  775,\n",
      "         776,  777,  778,  779,  780,  781,  782,  783,  784,  785,  786,  787,\n",
      "         788,  789,  790,  791,  792,  793,  794,  795,  796,  797,  798,  799,\n",
      "         800,  801,  802,  803,  804,  805,  806,  807,  808,  809,  810,  811,\n",
      "         812,  813,  814,  815,  816,  817,  818,  819,  820,  821,  822,  823,\n",
      "         824,  825,  826,  827,  828,  829,  830,  831,  832,  833,  834,  835,\n",
      "         836,  837,  838,  839,  840,  841,  842,  843,  844,  845,  846,  847,\n",
      "         848,  849,  850,  851,  852,  853,  854,  855,  856,  857,  858,  859,\n",
      "         860,  861,  862,  863,  864,  865,  866,  867,  868,  869,  870,  871,\n",
      "         872,  873,  874,  875,  876,  877,  878,  879,  880,  881,  882,  883,\n",
      "         884,  885,  886,  887,  888,  889,  890,  891,  892,  893,  894,  895,\n",
      "         896,  897,  898,  899,  900,  901,  902,  903,  904,  905,  906,  907,\n",
      "         908,  909,  910,  911,  912,  913,  914,  915,  916,  917,  918,  919,\n",
      "         920,  921,  922,  923,  924,  925,  926,  927,  928,  929,  930,  931,\n",
      "         932,  933,  934,  935,  936,  937,  938,  939,  940,  941,  942,  943,\n",
      "         944,  945,  946,  947,  948,  949,  950,  951,  952,  953,  954,  955,\n",
      "         956,  957,  958,  959,  960,  961,  962,  963,  964,  965,  966,  967,\n",
      "         968,  969,  970,  971,  972,  973,  974,  975,  976,  977,  978,  979,\n",
      "         980,  981,  982,  983,  984,  985,  986,  987,  988,  989,  990,  991,\n",
      "         992,  993,  994,  995,  996,  997,  998,  999, 1000, 1001, 1002, 1003,\n",
      "        1004, 1005, 1006, 1007, 1008, 1009, 1010, 1011, 1012, 1013, 1014, 1015,\n",
      "        1016, 1017, 1018, 1019, 1020, 1021, 1022, 1023, 1024, 1025, 1026, 1027,\n",
      "        1028, 1029, 1030, 1031, 1032, 1033, 1034, 1035, 1036, 1037, 1038, 1039,\n",
      "        1040, 1041, 1042, 1043, 1044, 1045, 1046, 1047, 1048, 1049, 1050, 1051,\n",
      "        1052, 1053, 1054, 1055, 1056, 1057, 1058, 1059, 1060, 1061, 1062, 1063,\n",
      "        1064, 1065, 1066, 1067, 1068, 1069, 1070, 1071, 1072, 1073, 1074, 1075,\n",
      "        1076, 1077, 1078, 1079, 1080, 1081, 1082, 1083, 1084, 1085, 1086, 1087,\n",
      "        1088, 1089, 1090, 1091, 1092, 1093, 1094, 1095, 1096, 1097, 1098, 1099,\n",
      "        1100, 1101, 1102, 1103, 1104, 1105, 1106, 1107, 1108, 1109, 1110, 1111,\n",
      "        1112, 1113, 1114, 1115, 1116, 1117, 1118, 1119, 1120, 1121, 1122, 1123,\n",
      "        1124, 1125, 1126, 1127, 1128, 1129, 1130, 1131, 1132, 1133, 1134, 1135,\n",
      "        1136, 1137, 1138, 1139, 1140, 1141, 1142, 1143, 1144, 1145, 1146, 1147,\n",
      "        1148, 1149, 1150, 1151, 1152, 1153, 1154, 1155, 1156, 1157, 1158, 1159,\n",
      "        1160, 1161, 1162, 1163, 1164, 1165, 1166, 1167, 1168, 1169, 1170, 1171,\n",
      "        1172, 1173, 1174, 1175, 1176, 1177, 1178, 1179, 1180, 1181, 1182, 1183,\n",
      "        1184, 1185, 1186, 1187, 1188, 1189, 1190, 1191, 1192, 1193, 1194, 1195,\n",
      "        1196, 1197, 1198, 1199, 1200, 1201, 1202, 1203, 1204, 1205, 1206, 1207,\n",
      "        1208, 1209, 1210, 1211, 1212, 1213, 1214, 1215, 1216, 1217, 1218, 1219,\n",
      "        1220, 1221, 1222, 1223, 1224, 1225, 1226, 1227, 1228, 1229, 1230, 1231,\n",
      "        1232, 1233, 1234, 1235, 1236, 1237, 1238, 1239, 1240, 1241, 1242, 1243,\n",
      "        1244, 1245, 1246, 1247, 1248, 1249, 1250, 1251, 1252, 1253, 1254, 1255,\n",
      "        1256, 1257, 1258, 1259, 1260, 1261, 1262, 1263, 1264, 1265, 1266, 1267,\n",
      "        1268, 1269, 1270, 1271, 1272, 1273, 1274, 1275, 1276, 1277, 1278, 1279,\n",
      "        1280, 1281, 1282, 1283, 1284, 1285, 1286, 1287, 1288, 1289, 1290, 1291,\n",
      "        1292, 1293, 1294, 1295, 1296, 1297, 1298, 1299, 1300, 1301, 1302, 1303,\n",
      "        1304, 1305, 1306, 1307, 1308, 1309, 1310, 1311, 1312, 1313, 1314, 1315,\n",
      "        1316, 1317, 1318, 1319, 1320, 1321, 1322, 1323, 1324, 1325, 1326, 1327,\n",
      "        1328, 1329, 1330, 1331, 1332, 1333, 1334, 1335, 1336, 1337, 1338, 1339,\n",
      "        1340, 1341, 1342, 1343, 1344, 1345, 1346, 1347, 1348, 1349, 1350, 1351,\n",
      "        1352, 1353, 1354, 1355, 1356, 1357, 1358, 1359, 1360, 1361, 1362, 1363,\n",
      "        1364, 1365, 1366, 1367, 1368, 1369, 1370, 1371, 1372, 1373, 1374, 1375,\n",
      "        1376, 1377, 1378, 1379, 1380, 1381, 1382, 1383, 1384, 1385, 1386, 1387,\n",
      "        1388, 1389, 1390, 1391, 1392, 1393, 1394, 1395, 1396, 1397, 1398, 1399,\n",
      "        1400, 1401, 1402, 1403, 1404, 1405, 1406, 1407, 1408, 1409, 1410, 1411,\n",
      "        1412, 1413, 1414, 1415, 1416, 1417, 1418, 1419, 1420, 1421, 1422, 1423,\n",
      "        1424, 1425, 1426, 1427, 1428, 1429, 1430, 1431, 1432, 1433, 1434, 1435,\n",
      "        1436, 1437, 1438, 1439, 1440, 1441, 1442, 1443, 1444, 1445, 1446, 1447,\n",
      "        1448, 1449, 1450, 1451, 1452, 1453, 1454, 1455, 1456, 1457, 1458, 1459,\n",
      "        1460, 1461, 1462, 1463, 1464, 1465, 1466, 1467, 1468, 1469, 1470, 1471,\n",
      "        1472, 1473, 1474, 1475, 1476, 1477, 1478, 1479, 1480, 1481, 1482, 1483,\n",
      "        1484, 1485, 1486, 1487, 1488, 1489, 1490, 1491, 1492, 1493, 1494, 1495,\n",
      "        1496, 1497, 1498, 1499])\n"
     ]
    }
   ],
   "source": [
    "print(A)\n",
    "print(A.layout) # s[parse_coo]\n",
    "\n",
    "print('============ features =======')\n",
    "print(features)\n",
    "\n",
    "print('============ labels =================')\n",
    "print(labels)\n",
    "print(labels.unique()) # 7개의 label\n",
    "\n",
    "\n",
    "print('============ labels =================')\n",
    "print(idx_train)  # 0-199  # 200개\n",
    "print(idx_val)    # 200-499 # 300개\n",
    "print(idx_test)   # 500-1499 # 1000개"
   ]
  },
  {
   "cell_type": "code",
   "execution_count": 10,
   "metadata": {
    "hidden": true
   },
   "outputs": [],
   "source": [
    "import torch.nn as nn\n",
    "class GCN_layer(nn.Module) :\n",
    "    def __init__(self, in_features, out_features, A) :\n",
    "        super(GCN_layer, self).__init__()\n",
    "        self.in_features = in_features\n",
    "        self.out_features = out_features\n",
    "        self.A = A\n",
    "        self.fc = nn.Linear(in_features, out_features)\n",
    "\n",
    "    def forward(self, X) :\n",
    "        return self.fc(torch.spmm(self.A, X)) # 이웃 정보를 종합한다.\n",
    "\n",
    "\n",
    "class GCN(nn.Module) :\n",
    "    def __init__(self, num_feature, num_class, A) :\n",
    "        super(GCN, self).__init__()\n",
    "        self.feature_extractor = nn.Sequential( GCN_layer(num_feature, 16, A),\n",
    "                                               nn.ReLU(),\n",
    "                                               GCN_layer(16, num_class, A))\n",
    "    \n",
    "    def forward(self, X) :\n",
    "        return self.feature_extractor(X)"
   ]
  },
  {
   "cell_type": "code",
   "execution_count": 11,
   "metadata": {
    "hidden": true
   },
   "outputs": [],
   "source": [
    "def train(model, Loss, optimizer, num_epochs) :\n",
    "    train_loss_arr = []\n",
    "    test_loss_arr = []\n",
    "\n",
    "    best_test_loss = 99999999\n",
    "    early_stop, early_stop_max = 0., 10.\n",
    "\n",
    "    for epoch in range(num_epochs) :\n",
    "\n",
    "        # forward pass\n",
    "        model.train()\n",
    "        output = model(features)\n",
    "        train_loss = criterion(output[idx_train], labels[idx_train])\n",
    "\n",
    "        # backward, optimize\n",
    "        train_loss.backward()\n",
    "        optimizer.step()\n",
    "\n",
    "        train_loss_arr.append(train_loss.data)\n",
    "\n",
    "        if epoch % 10 == 0 :\n",
    "            model.eval()\n",
    "\n",
    "            output = model(features)\n",
    "            val_loss = criterion(output[idx_val], labels[idx_val])\n",
    "            test_loss = criterion(output[idx_test], labels[idx_test])\n",
    "\n",
    "            val_acc = accuracy(output[idx_val], labels[idx_val])\n",
    "            test_acc = accuracy(output[idx_test], labels[idx_test])\n",
    "\n",
    "            test_loss_arr.append(test_loss)\n",
    "\n",
    "            best_ACC = val_acc\n",
    "            final_ACC = test_acc\n",
    "\n",
    "            if best_ACC < val_acc :\n",
    "                best_ACC = val_acc\n",
    "                early_stop = 0\n",
    "                final_ACC = test_acc\n",
    "                print('Epoch [{}/{}], Train Loss: {:.4f}, Test Loss: {:.4f}, Test ACC: {:.4f} *'.format(epoch, 100, train_loss.data, test_loss, test_acc))\n",
    "\n",
    "            else :\n",
    "                early_stop += 1\n",
    "                print('Epoch [{}/{}], Train Loss: {:.4f}, Test Loss: {:.4f}, Test ACC: {:.4f} *'.format(epoch, 100, train_loss.data, test_loss, test_acc))\n",
    "\n",
    "        if early_stop >= early_stop_max :\n",
    "            break\n",
    "\n",
    "        print('Final Accuracy : ', final_ACC)"
   ]
  },
  {
   "cell_type": "code",
   "execution_count": 12,
   "metadata": {
    "hidden": true
   },
   "outputs": [],
   "source": [
    "# 비교해보기 위한 Fully Connected Neural Network\n",
    "class FCN(nn.Module) :\n",
    "    def __init__(self, num_features, num_class) :\n",
    "        super(FCN, self).__init__()\n",
    "\n",
    "        self.feature_extractor = nn.Sequential(\n",
    "                                                nn.Linear(num_features, 16),\n",
    "                                                nn.ReLU(),\n",
    "                                                nn.Linear(16, num_class)\n",
    "                                            )\n",
    "\n",
    "    def forward(self, x) :\n",
    "        return self.feature_extractor(x)"
   ]
  },
  {
   "cell_type": "code",
   "execution_count": 13,
   "metadata": {
    "hidden": true
   },
   "outputs": [],
   "source": [
    "import torch.optim as optim"
   ]
  },
  {
   "cell_type": "code",
   "execution_count": 14,
   "metadata": {
    "hidden": true,
    "scrolled": true
   },
   "outputs": [
    {
     "name": "stdout",
     "output_type": "stream",
     "text": [
      "Epoch [0/100], Train Loss: 1.9629, Test Loss: 1.9444, Test ACC: 0.1380 *\n",
      "Final Accuracy :  tensor(0.1380, dtype=torch.float64)\n",
      "Final Accuracy :  tensor(0.1380, dtype=torch.float64)\n",
      "Final Accuracy :  tensor(0.1380, dtype=torch.float64)\n",
      "Final Accuracy :  tensor(0.1380, dtype=torch.float64)\n",
      "Final Accuracy :  tensor(0.1380, dtype=torch.float64)\n",
      "Final Accuracy :  tensor(0.1380, dtype=torch.float64)\n",
      "Final Accuracy :  tensor(0.1380, dtype=torch.float64)\n",
      "Final Accuracy :  tensor(0.1380, dtype=torch.float64)\n",
      "Final Accuracy :  tensor(0.1380, dtype=torch.float64)\n",
      "Final Accuracy :  tensor(0.1380, dtype=torch.float64)\n",
      "Epoch [10/100], Train Loss: 1.1886, Test Loss: 2.0284, Test ACC: 0.2220 *\n",
      "Final Accuracy :  tensor(0.2220, dtype=torch.float64)\n",
      "Final Accuracy :  tensor(0.2220, dtype=torch.float64)\n",
      "Final Accuracy :  tensor(0.2220, dtype=torch.float64)\n",
      "Final Accuracy :  tensor(0.2220, dtype=torch.float64)\n",
      "Final Accuracy :  tensor(0.2220, dtype=torch.float64)\n",
      "Final Accuracy :  tensor(0.2220, dtype=torch.float64)\n",
      "Final Accuracy :  tensor(0.2220, dtype=torch.float64)\n",
      "Final Accuracy :  tensor(0.2220, dtype=torch.float64)\n",
      "Final Accuracy :  tensor(0.2220, dtype=torch.float64)\n",
      "Final Accuracy :  tensor(0.2220, dtype=torch.float64)\n",
      "Epoch [20/100], Train Loss: 0.2374, Test Loss: 1.7249, Test ACC: 0.4820 *\n",
      "Final Accuracy :  tensor(0.4820, dtype=torch.float64)\n",
      "Final Accuracy :  tensor(0.4820, dtype=torch.float64)\n",
      "Final Accuracy :  tensor(0.4820, dtype=torch.float64)\n",
      "Final Accuracy :  tensor(0.4820, dtype=torch.float64)\n",
      "Final Accuracy :  tensor(0.4820, dtype=torch.float64)\n",
      "Final Accuracy :  tensor(0.4820, dtype=torch.float64)\n",
      "Final Accuracy :  tensor(0.4820, dtype=torch.float64)\n",
      "Final Accuracy :  tensor(0.4820, dtype=torch.float64)\n",
      "Final Accuracy :  tensor(0.4820, dtype=torch.float64)\n",
      "Final Accuracy :  tensor(0.4820, dtype=torch.float64)\n",
      "Epoch [30/100], Train Loss: 0.4619, Test Loss: 6.8256, Test ACC: 0.3550 *\n",
      "Final Accuracy :  tensor(0.3550, dtype=torch.float64)\n",
      "Final Accuracy :  tensor(0.3550, dtype=torch.float64)\n",
      "Final Accuracy :  tensor(0.3550, dtype=torch.float64)\n",
      "Final Accuracy :  tensor(0.3550, dtype=torch.float64)\n",
      "Final Accuracy :  tensor(0.3550, dtype=torch.float64)\n",
      "Final Accuracy :  tensor(0.3550, dtype=torch.float64)\n",
      "Final Accuracy :  tensor(0.3550, dtype=torch.float64)\n",
      "Final Accuracy :  tensor(0.3550, dtype=torch.float64)\n",
      "Final Accuracy :  tensor(0.3550, dtype=torch.float64)\n",
      "Final Accuracy :  tensor(0.3550, dtype=torch.float64)\n",
      "Epoch [40/100], Train Loss: 0.7413, Test Loss: 10.8502, Test ACC: 0.2100 *\n",
      "Final Accuracy :  tensor(0.2100, dtype=torch.float64)\n",
      "Final Accuracy :  tensor(0.2100, dtype=torch.float64)\n",
      "Final Accuracy :  tensor(0.2100, dtype=torch.float64)\n",
      "Final Accuracy :  tensor(0.2100, dtype=torch.float64)\n",
      "Final Accuracy :  tensor(0.2100, dtype=torch.float64)\n",
      "Final Accuracy :  tensor(0.2100, dtype=torch.float64)\n",
      "Final Accuracy :  tensor(0.2100, dtype=torch.float64)\n",
      "Final Accuracy :  tensor(0.2100, dtype=torch.float64)\n",
      "Final Accuracy :  tensor(0.2100, dtype=torch.float64)\n",
      "Final Accuracy :  tensor(0.2100, dtype=torch.float64)\n",
      "Epoch [50/100], Train Loss: 0.5729, Test Loss: 8.2277, Test ACC: 0.1780 *\n",
      "Final Accuracy :  tensor(0.1780, dtype=torch.float64)\n",
      "Final Accuracy :  tensor(0.1780, dtype=torch.float64)\n",
      "Final Accuracy :  tensor(0.1780, dtype=torch.float64)\n",
      "Final Accuracy :  tensor(0.1780, dtype=torch.float64)\n",
      "Final Accuracy :  tensor(0.1780, dtype=torch.float64)\n",
      "Final Accuracy :  tensor(0.1780, dtype=torch.float64)\n",
      "Final Accuracy :  tensor(0.1780, dtype=torch.float64)\n",
      "Final Accuracy :  tensor(0.1780, dtype=torch.float64)\n",
      "Final Accuracy :  tensor(0.1780, dtype=torch.float64)\n",
      "Final Accuracy :  tensor(0.1780, dtype=torch.float64)\n",
      "Epoch [60/100], Train Loss: 1.0374, Test Loss: 4.5429, Test ACC: 0.3180 *\n",
      "Final Accuracy :  tensor(0.3180, dtype=torch.float64)\n",
      "Final Accuracy :  tensor(0.3180, dtype=torch.float64)\n",
      "Final Accuracy :  tensor(0.3180, dtype=torch.float64)\n",
      "Final Accuracy :  tensor(0.3180, dtype=torch.float64)\n",
      "Final Accuracy :  tensor(0.3180, dtype=torch.float64)\n",
      "Final Accuracy :  tensor(0.3180, dtype=torch.float64)\n",
      "Final Accuracy :  tensor(0.3180, dtype=torch.float64)\n",
      "Final Accuracy :  tensor(0.3180, dtype=torch.float64)\n",
      "Final Accuracy :  tensor(0.3180, dtype=torch.float64)\n",
      "Final Accuracy :  tensor(0.3180, dtype=torch.float64)\n",
      "Epoch [70/100], Train Loss: 1.6483, Test Loss: 7.6126, Test ACC: 0.2840 *\n",
      "Final Accuracy :  tensor(0.2840, dtype=torch.float64)\n",
      "Final Accuracy :  tensor(0.2840, dtype=torch.float64)\n",
      "Final Accuracy :  tensor(0.2840, dtype=torch.float64)\n",
      "Final Accuracy :  tensor(0.2840, dtype=torch.float64)\n",
      "Final Accuracy :  tensor(0.2840, dtype=torch.float64)\n",
      "Final Accuracy :  tensor(0.2840, dtype=torch.float64)\n",
      "Final Accuracy :  tensor(0.2840, dtype=torch.float64)\n",
      "Final Accuracy :  tensor(0.2840, dtype=torch.float64)\n",
      "Final Accuracy :  tensor(0.2840, dtype=torch.float64)\n",
      "Final Accuracy :  tensor(0.2840, dtype=torch.float64)\n",
      "Epoch [80/100], Train Loss: 1.5477, Test Loss: 13.0014, Test ACC: 0.3980 *\n",
      "Final Accuracy :  tensor(0.3980, dtype=torch.float64)\n",
      "Final Accuracy :  tensor(0.3980, dtype=torch.float64)\n",
      "Final Accuracy :  tensor(0.3980, dtype=torch.float64)\n",
      "Final Accuracy :  tensor(0.3980, dtype=torch.float64)\n",
      "Final Accuracy :  tensor(0.3980, dtype=torch.float64)\n",
      "Final Accuracy :  tensor(0.3980, dtype=torch.float64)\n",
      "Final Accuracy :  tensor(0.3980, dtype=torch.float64)\n",
      "Final Accuracy :  tensor(0.3980, dtype=torch.float64)\n",
      "Final Accuracy :  tensor(0.3980, dtype=torch.float64)\n",
      "Final Accuracy :  tensor(0.3980, dtype=torch.float64)\n",
      "Epoch [90/100], Train Loss: 3.3103, Test Loss: 18.8796, Test ACC: 0.3780 *\n"
     ]
    }
   ],
   "source": [
    "# FCN 학습 후 epoch에 따른 loss 확인\n",
    "model = FCN(features.size(1), labels.unique().size(0))\n",
    "criterion = nn.CrossEntropyLoss()\n",
    "optimizer = optim.Adam(model.parameters(), lr=0.1, weight_decay=0.0001)\n",
    "train(model, criterion, optimizer, 1000)"
   ]
  },
  {
   "cell_type": "code",
   "execution_count": 15,
   "metadata": {
    "hidden": true,
    "scrolled": true
   },
   "outputs": [
    {
     "name": "stdout",
     "output_type": "stream",
     "text": [
      "Epoch [0/100], Train Loss: 2.0312, Test Loss: 1.9524, Test ACC: 0.0720 *\n",
      "Final Accuracy :  tensor(0.0720, dtype=torch.float64)\n",
      "Final Accuracy :  tensor(0.0720, dtype=torch.float64)\n",
      "Final Accuracy :  tensor(0.0720, dtype=torch.float64)\n",
      "Final Accuracy :  tensor(0.0720, dtype=torch.float64)\n",
      "Final Accuracy :  tensor(0.0720, dtype=torch.float64)\n",
      "Final Accuracy :  tensor(0.0720, dtype=torch.float64)\n",
      "Final Accuracy :  tensor(0.0720, dtype=torch.float64)\n",
      "Final Accuracy :  tensor(0.0720, dtype=torch.float64)\n",
      "Final Accuracy :  tensor(0.0720, dtype=torch.float64)\n",
      "Final Accuracy :  tensor(0.0720, dtype=torch.float64)\n",
      "Epoch [10/100], Train Loss: 1.5264, Test Loss: 1.8417, Test ACC: 0.2540 *\n",
      "Final Accuracy :  tensor(0.2540, dtype=torch.float64)\n",
      "Final Accuracy :  tensor(0.2540, dtype=torch.float64)\n",
      "Final Accuracy :  tensor(0.2540, dtype=torch.float64)\n",
      "Final Accuracy :  tensor(0.2540, dtype=torch.float64)\n",
      "Final Accuracy :  tensor(0.2540, dtype=torch.float64)\n",
      "Final Accuracy :  tensor(0.2540, dtype=torch.float64)\n",
      "Final Accuracy :  tensor(0.2540, dtype=torch.float64)\n",
      "Final Accuracy :  tensor(0.2540, dtype=torch.float64)\n",
      "Final Accuracy :  tensor(0.2540, dtype=torch.float64)\n",
      "Final Accuracy :  tensor(0.2540, dtype=torch.float64)\n",
      "Epoch [20/100], Train Loss: 1.3378, Test Loss: 1.6612, Test ACC: 0.4200 *\n",
      "Final Accuracy :  tensor(0.4200, dtype=torch.float64)\n",
      "Final Accuracy :  tensor(0.4200, dtype=torch.float64)\n",
      "Final Accuracy :  tensor(0.4200, dtype=torch.float64)\n",
      "Final Accuracy :  tensor(0.4200, dtype=torch.float64)\n",
      "Final Accuracy :  tensor(0.4200, dtype=torch.float64)\n",
      "Final Accuracy :  tensor(0.4200, dtype=torch.float64)\n",
      "Final Accuracy :  tensor(0.4200, dtype=torch.float64)\n",
      "Final Accuracy :  tensor(0.4200, dtype=torch.float64)\n",
      "Final Accuracy :  tensor(0.4200, dtype=torch.float64)\n",
      "Final Accuracy :  tensor(0.4200, dtype=torch.float64)\n",
      "Epoch [30/100], Train Loss: 0.8884, Test Loss: 1.6536, Test ACC: 0.3260 *\n",
      "Final Accuracy :  tensor(0.3260, dtype=torch.float64)\n",
      "Final Accuracy :  tensor(0.3260, dtype=torch.float64)\n",
      "Final Accuracy :  tensor(0.3260, dtype=torch.float64)\n",
      "Final Accuracy :  tensor(0.3260, dtype=torch.float64)\n",
      "Final Accuracy :  tensor(0.3260, dtype=torch.float64)\n",
      "Final Accuracy :  tensor(0.3260, dtype=torch.float64)\n",
      "Final Accuracy :  tensor(0.3260, dtype=torch.float64)\n",
      "Final Accuracy :  tensor(0.3260, dtype=torch.float64)\n",
      "Final Accuracy :  tensor(0.3260, dtype=torch.float64)\n",
      "Final Accuracy :  tensor(0.3260, dtype=torch.float64)\n",
      "Epoch [40/100], Train Loss: 2.6634, Test Loss: 4.0848, Test ACC: 0.2910 *\n",
      "Final Accuracy :  tensor(0.2910, dtype=torch.float64)\n",
      "Final Accuracy :  tensor(0.2910, dtype=torch.float64)\n",
      "Final Accuracy :  tensor(0.2910, dtype=torch.float64)\n",
      "Final Accuracy :  tensor(0.2910, dtype=torch.float64)\n",
      "Final Accuracy :  tensor(0.2910, dtype=torch.float64)\n",
      "Final Accuracy :  tensor(0.2910, dtype=torch.float64)\n",
      "Final Accuracy :  tensor(0.2910, dtype=torch.float64)\n",
      "Final Accuracy :  tensor(0.2910, dtype=torch.float64)\n",
      "Final Accuracy :  tensor(0.2910, dtype=torch.float64)\n",
      "Final Accuracy :  tensor(0.2910, dtype=torch.float64)\n",
      "Epoch [50/100], Train Loss: 0.7270, Test Loss: 1.5610, Test ACC: 0.5740 *\n",
      "Final Accuracy :  tensor(0.5740, dtype=torch.float64)\n",
      "Final Accuracy :  tensor(0.5740, dtype=torch.float64)\n",
      "Final Accuracy :  tensor(0.5740, dtype=torch.float64)\n",
      "Final Accuracy :  tensor(0.5740, dtype=torch.float64)\n",
      "Final Accuracy :  tensor(0.5740, dtype=torch.float64)\n",
      "Final Accuracy :  tensor(0.5740, dtype=torch.float64)\n",
      "Final Accuracy :  tensor(0.5740, dtype=torch.float64)\n",
      "Final Accuracy :  tensor(0.5740, dtype=torch.float64)\n",
      "Final Accuracy :  tensor(0.5740, dtype=torch.float64)\n",
      "Final Accuracy :  tensor(0.5740, dtype=torch.float64)\n",
      "Epoch [60/100], Train Loss: 2.9850, Test Loss: 5.5612, Test ACC: 0.3510 *\n",
      "Final Accuracy :  tensor(0.3510, dtype=torch.float64)\n",
      "Final Accuracy :  tensor(0.3510, dtype=torch.float64)\n",
      "Final Accuracy :  tensor(0.3510, dtype=torch.float64)\n",
      "Final Accuracy :  tensor(0.3510, dtype=torch.float64)\n",
      "Final Accuracy :  tensor(0.3510, dtype=torch.float64)\n",
      "Final Accuracy :  tensor(0.3510, dtype=torch.float64)\n",
      "Final Accuracy :  tensor(0.3510, dtype=torch.float64)\n",
      "Final Accuracy :  tensor(0.3510, dtype=torch.float64)\n",
      "Final Accuracy :  tensor(0.3510, dtype=torch.float64)\n",
      "Final Accuracy :  tensor(0.3510, dtype=torch.float64)\n",
      "Epoch [70/100], Train Loss: 2.0315, Test Loss: 4.8433, Test ACC: 0.3850 *\n",
      "Final Accuracy :  tensor(0.3850, dtype=torch.float64)\n",
      "Final Accuracy :  tensor(0.3850, dtype=torch.float64)\n",
      "Final Accuracy :  tensor(0.3850, dtype=torch.float64)\n",
      "Final Accuracy :  tensor(0.3850, dtype=torch.float64)\n",
      "Final Accuracy :  tensor(0.3850, dtype=torch.float64)\n",
      "Final Accuracy :  tensor(0.3850, dtype=torch.float64)\n",
      "Final Accuracy :  tensor(0.3850, dtype=torch.float64)\n",
      "Final Accuracy :  tensor(0.3850, dtype=torch.float64)\n",
      "Final Accuracy :  tensor(0.3850, dtype=torch.float64)\n",
      "Final Accuracy :  tensor(0.3850, dtype=torch.float64)\n",
      "Epoch [80/100], Train Loss: 3.8226, Test Loss: 6.9366, Test ACC: 0.2740 *\n",
      "Final Accuracy :  tensor(0.2740, dtype=torch.float64)\n",
      "Final Accuracy :  tensor(0.2740, dtype=torch.float64)\n",
      "Final Accuracy :  tensor(0.2740, dtype=torch.float64)\n",
      "Final Accuracy :  tensor(0.2740, dtype=torch.float64)\n",
      "Final Accuracy :  tensor(0.2740, dtype=torch.float64)\n",
      "Final Accuracy :  tensor(0.2740, dtype=torch.float64)\n",
      "Final Accuracy :  tensor(0.2740, dtype=torch.float64)\n",
      "Final Accuracy :  tensor(0.2740, dtype=torch.float64)\n",
      "Final Accuracy :  tensor(0.2740, dtype=torch.float64)\n",
      "Final Accuracy :  tensor(0.2740, dtype=torch.float64)\n",
      "Epoch [90/100], Train Loss: 3.0144, Test Loss: 4.7502, Test ACC: 0.2770 *\n"
     ]
    }
   ],
   "source": [
    "# GCN 학습 후 epoch에 따른 loss 확인\n",
    "model = GCN(features.size(1), labels.unique().size(0), A)\n",
    "criterion = nn.CrossEntropyLoss()\n",
    "optimizer = optim.Adam(model.parameters(), lr=0.1, weight_decay=0.0001)\n",
    "train(model, criterion, optimizer, 1000)"
   ]
  },
  {
   "cell_type": "markdown",
   "metadata": {
    "heading_collapsed": true
   },
   "source": [
    "# 예제2"
   ]
  },
  {
   "cell_type": "code",
   "execution_count": 37,
   "metadata": {
    "hidden": true
   },
   "outputs": [
    {
     "ename": "NameError",
     "evalue": "name 'self' is not defined",
     "output_type": "error",
     "traceback": [
      "\u001b[1;31m---------------------------------------------------------------------------\u001b[0m",
      "\u001b[1;31mNameError\u001b[0m                                 Traceback (most recent call last)",
      "\u001b[1;32m<ipython-input-37-480f5138b8fb>\u001b[0m in \u001b[0;36m<module>\u001b[1;34m\u001b[0m\n\u001b[0;32m     21\u001b[0m \u001b[0mgcn_reduce\u001b[0m \u001b[1;33m=\u001b[0m \u001b[0mfn\u001b[0m\u001b[1;33m.\u001b[0m\u001b[0msum\u001b[0m\u001b[1;33m(\u001b[0m\u001b[0mmsg\u001b[0m\u001b[1;33m=\u001b[0m\u001b[1;34m'm'\u001b[0m\u001b[1;33m,\u001b[0m \u001b[0mout\u001b[0m\u001b[1;33m=\u001b[0m\u001b[1;34m'h'\u001b[0m\u001b[1;33m)\u001b[0m\u001b[1;33m\u001b[0m\u001b[1;33m\u001b[0m\u001b[0m\n\u001b[0;32m     22\u001b[0m \u001b[1;33m\u001b[0m\u001b[0m\n\u001b[1;32m---> 23\u001b[1;33m \u001b[0mdgl\u001b[0m\u001b[1;33m.\u001b[0m\u001b[0mDGLGraph\u001b[0m\u001b[1;33m.\u001b[0m\u001b[0mupdate_all\u001b[0m\u001b[1;33m(\u001b[0m\u001b[0mself\u001b[0m\u001b[1;33m,\u001b[0m \u001b[0mgcn_msg\u001b[0m\u001b[1;33m,\u001b[0m \u001b[0mgcn_reduce\u001b[0m\u001b[1;33m)\u001b[0m\u001b[1;33m\u001b[0m\u001b[1;33m\u001b[0m\u001b[0m\n\u001b[0m",
      "\u001b[1;31mNameError\u001b[0m: name 'self' is not defined"
     ]
    }
   ],
   "source": [
    "class GCN_layer(nn.Module):\n",
    "    \n",
    "    def __init__(self, in_features, out_features, A):\n",
    "        super(GCN_layer, self).__init__()\n",
    "        self.in_features = in_features\n",
    "        self.out_features = out_features\n",
    "        self.A = A\n",
    "        self.fc = nn.Linear(in_features, out_features)\n",
    "        \n",
    "    def forward(self, X):\n",
    "        return self.fc(torch.spmm(self.A, X))\n",
    "    \n",
    "# 이전에 GCN 네트워크를 Pytorch로 구현할 때\n",
    "# 그래프 구조의 데이터를 취합하기 위하여 adjency matrix A를 생성했다.\n",
    "# DGL이 있다면 이것을 아래와 같이 대체할 수 있다고 한다.\n",
    "\n",
    "import dgl.function as fn\n",
    "import dgl\n",
    "\n",
    "gcn_msg = fn.copy_src(src='h', out='m')\n",
    "gcn_reduce = fn.sum(msg='m', out='h')\n",
    "\n",
    "dgl.DGLGraph.update_all(gcn_msg, gcn_reduce)"
   ]
  },
  {
   "cell_type": "code",
   "execution_count": 39,
   "metadata": {
    "hidden": true
   },
   "outputs": [
    {
     "name": "stdout",
     "output_type": "stream",
     "text": [
      "Downloading C:\\Users\\won\\.dgl\\citeseer.zip from https://data.dgl.ai/dataset/citeseer.zip...\n",
      "Extracting file to C:\\Users\\won\\.dgl\\citeseer\n"
     ]
    },
    {
     "name": "stderr",
     "output_type": "stream",
     "text": [
      "C:\\Users\\won\\anaconda3\\envs\\cpu_env\\lib\\site-packages\\dgl\\data\\citation_graph.py:258: RuntimeWarning: divide by zero encountered in power\n",
      "  r_inv = np.power(rowsum, -1).flatten()\n"
     ]
    },
    {
     "name": "stdout",
     "output_type": "stream",
     "text": [
      "Finished data loading and preprocessing.\n",
      "  NumNodes: 3327\n",
      "  NumEdges: 9228\n",
      "  NumFeats: 3703\n",
      "  NumClasses: 6\n",
      "  NumTrainingSamples: 120\n",
      "  NumValidationSamples: 500\n",
      "  NumTestSamples: 1000\n",
      "Done saving data into cached files.\n"
     ]
    }
   ],
   "source": [
    "import time\n",
    "import numpy as np\n",
    "\n",
    "import torch\n",
    "import torch.nn.functional as F\n",
    "import torch.optim as optim\n",
    "import torch.nn as nn\n",
    "\n",
    "from dgl import DGLGraph\n",
    "import dgl\n",
    "\n",
    "from dgl.data import CitationGraphDataset\n",
    "citeseer = CitationGraphDataset('citeseer')"
   ]
  },
  {
   "cell_type": "code",
   "execution_count": 40,
   "metadata": {
    "hidden": true
   },
   "outputs": [
    {
     "name": "stderr",
     "output_type": "stream",
     "text": [
      "C:\\Users\\won\\anaconda3\\envs\\cpu_env\\lib\\site-packages\\dgl\\data\\utils.py:285: UserWarning: Property dataset.graph will be deprecated, please use dataset.g instead.\n",
      "  warnings.warn('Property {} will be deprecated, please use {} instead.'.format(old, new))\n"
     ]
    },
    {
     "data": {
      "text/plain": [
       "None"
      ]
     },
     "metadata": {},
     "output_type": "display_data"
    },
    {
     "data": {
      "image/png": "[encoded data removed]",
      "text/plain": [
       "<Figure size 432x288 with 1 Axes>"
      ]
     },
     "metadata": {},
     "output_type": "display_data"
    }
   ],
   "source": [
    "dir(citeseer)\n",
    "\n",
    "# networkx 라이브러리의 오브젝트인 그래프가 citeseer.graph 로 들어가 있다.\n",
    "# draw 함수를 통해 아래와 같은 끔찍한 이미지를 만들어 낼 수 있다.\n",
    "import networkx as nx\n",
    "\n",
    "nx_G = citeseer.graph.to_undirected()\n",
    "pos = nx.kamada_kawai_layout(nx_G)\n",
    "display(nx.draw(nx_G, pos, with_labels=False, node_size = 0.01, node_color='#00b4d9'))"
   ]
  },
  {
   "cell_type": "code",
   "execution_count": 41,
   "metadata": {
    "hidden": true
   },
   "outputs": [],
   "source": [
    "class GATLayer(nn.Module):\n",
    "    def __init__(self, g, in_dim, out_dim):\n",
    "        super(GATLayer, self).__init__()\n",
    "        self.g = g\n",
    "        \n",
    "        # Expression 3\n",
    "        # F-Dimension의 피쳐 스페이스가 single fc-layer 지나며 F'-Dimension으로 임베딩 \n",
    "        self.fc = nn.Linear(in_dim, out_dim, bias=False)\n",
    "        # i노드의 F' + j노드의 F' 길이의 벡터를 합쳐서 Attention Coefficient를 리턴 \t\n",
    "        self.attn_fc = nn.Linear(2 * out_dim, 1, bias=False)\n",
    "\n",
    "        \n",
    "        \n",
    "    # Expression 3에서 어텐션으로 넘어온 값을 Leaky Relu 적용하는 Layer\n",
    "\t# src는 source vertex, dst는 destination vertex의 약자\t\n",
    "    def edge_attention(self, edges):\n",
    "        z2 = torch.cat([edges.src['z'], edges.dst['z']], dim=1)\n",
    "        a = self.attn_fc(z2)\n",
    "        return {'e': F.leaky_relu(a)}\n",
    "\n",
    "    \n",
    "    # dgl에서는 모든 노드에 함수를 병렬 적용 할 수 있는 update_all 이라는 api를 제공한다.\n",
    "    # 해당 api 사용을 위해 텐서를 흘려보내는 역할을 한다고 한다.\n",
    "\t# 구체적인 update_all의 알고리즘은 잘 모르겠으니 그냥 input 함수라고 생각하자.\n",
    "    def message_func(self, edges):\n",
    "        return {'z': edges.src['z'], 'e': edges.data['e']}\n",
    "\n",
    "\n",
    "    # update_all에서는 흘려보내진 텐서를 각 노드의 mailbox라는 오브젝트에 저장하나 보다.\n",
    "    # 각 노드에는 여러 이웃이 있으니 mailbox에는 여러개의 attention coefficient가 있다.\n",
    "    # Expression 4에서 softmax 계수를 가중하여 element wise하게 합한다.  \n",
    "    def reduce_func(self, nodes):\n",
    "        alpha = F.softmax(nodes.mailbox['e'], dim=1)\n",
    "        h = torch.sum(alpha * nodes.mailbox['z'], dim=1)\n",
    "        return {'h': h}\n",
    "\n",
    "    \n",
    "    # (1) fc layer를 통해 피쳐를 임베딩\n",
    "    # (2) 그레프에 임베딩 된 벡터를 저장\n",
    "    # (3) apply_edges api를 모든 엣지에 적용하여 i - j 간의 attention coefficeint를 계산\n",
    "    # (4) 그래프에 저장된 z와e를 텐서로 reduce_func에 전달하여 새로운 h' 를 얻는다.\n",
    "    def forward(self, h):\n",
    "        z = self.fc(h)\n",
    "        self.g.ndata['z'] = z\n",
    "        self.g.apply_edges(self.edge_attention)\n",
    "        self.g.update_all(self.message_func, self.reduce_func)\n",
    "        return self.g.ndata.pop('h')"
   ]
  },
  {
   "cell_type": "code",
   "execution_count": 42,
   "metadata": {
    "hidden": true
   },
   "outputs": [],
   "source": [
    "class MultiHeadGATLayer(nn.Module):\n",
    "    def __init__(self, g, in_dim, out_dim, num_heads, merge='cat'):\n",
    "        super(MultiHeadGATLayer, self).__init__()\n",
    "        self.heads = nn.ModuleList()\n",
    "        for i in range(num_heads):\n",
    "            self.heads.append(GATLayer(g, in_dim, out_dim))\n",
    "        self.merge = merge\n",
    "\n",
    "    def forward(self, h):\n",
    "        head_outs = [attn_head(h) for attn_head in self.heads]\n",
    "        if self.merge == 'cat':\n",
    "            # concat on the output feature dimension (dim=1)\n",
    "            return torch.cat(head_outs, dim=1)\n",
    "        else:\n",
    "            # merge using average\n",
    "            return torch.mean(torch.stack(head_outs))"
   ]
  },
  {
   "cell_type": "code",
   "execution_count": 43,
   "metadata": {
    "hidden": true
   },
   "outputs": [],
   "source": [
    "class GAT(nn.Module):\n",
    "    \n",
    "    # 두 Layer의 인풋과 아웃풋이 다른 것을 볼 수 있다\n",
    "    # 원래 노드의 feature 개수가 F개라고 했을 때, layer를 한 번 지나며 F'개로 임베딩했다.\n",
    "    # 이것을 num_heads(attention 개수) 만큼 multi-head하게 보아 K*F' 길이로 cat했다.\n",
    "    # 두 번째 layer에서는 K를 1로 설정하여 single-head attention을 적용했다.  \n",
    "    def __init__(self, g, in_dim, hidden_dim, out_dim, num_heads):\n",
    "        super(GAT, self).__init__()\n",
    "        self.layer1 = MultiHeadGATLayer(g, in_dim, hidden_dim, num_heads)\n",
    "        self.layer2 = MultiHeadGATLayer(g, hidden_dim * num_heads, out_dim, 1)\n",
    "\n",
    "    def forward(self, h):\n",
    "        h = self.layer1(h)\n",
    "        h = F.elu(h)\n",
    "        h = self.layer2(h)\n",
    "        return h"
   ]
  },
  {
   "cell_type": "code",
   "execution_count": 44,
   "metadata": {
    "hidden": true
   },
   "outputs": [],
   "source": [
    "def load_citeseer_data():\n",
    "    data = citeseer\n",
    "    features = torch.FloatTensor(data.features)\n",
    "    labels = torch.LongTensor(data.labels)\n",
    "    mask = torch.BoolTensor(data.train_mask)\n",
    "    g = data.graph\n",
    "    \n",
    "    # add self loop\n",
    "    # GAT는 i <-> i의 self-attention도 종합하기 때문에 해당 정보를 edge에 추가해준다\n",
    "    g.remove_edges_from(nx.selfloop_edges(g))\n",
    "    g = DGLGraph(g)\n",
    "    g.add_edges(g.nodes(), g.nodes())\n",
    "    return g, features, labels, mask"
   ]
  },
  {
   "cell_type": "code",
   "execution_count": 47,
   "metadata": {
    "hidden": true
   },
   "outputs": [
    {
     "name": "stdout",
     "output_type": "stream",
     "text": [
      "Epoch 00000 | Loss 1.7918 | Time(s) nan\n",
      "Epoch 00100 | Loss 1.6321 | Time(s) 0.1197\n",
      "Epoch 00200 | Loss 1.2755 | Time(s) 0.1198\n",
      "Epoch 00300 | Loss 0.8526 | Time(s) 0.1199\n",
      "Epoch 00400 | Loss 0.5026 | Time(s) 0.1195\n",
      "Epoch 00500 | Loss 0.2971 | Time(s) 0.1193\n",
      "Epoch 00600 | Loss 0.1837 | Time(s) 0.1203\n",
      "Epoch 00700 | Loss 0.1175 | Time(s) 0.1207\n",
      "Epoch 00800 | Loss 0.0790 | Time(s) 0.1204\n",
      "Epoch 00900 | Loss 0.0556 | Time(s) 0.1203\n"
     ]
    }
   ],
   "source": [
    "g, features, labels, mask = load_citeseer_data()\n",
    "\n",
    "# create the model, 2 heads, each head has hidden size 8\n",
    "net = GAT(g,\n",
    "          in_dim=features.size()[1],\n",
    "          hidden_dim=8,\n",
    "          out_dim=6,\n",
    "          num_heads=2)\n",
    "\n",
    "# create optimizer\n",
    "optimizer = torch.optim.Adam(net.parameters(), lr=1e-3)\n",
    "\n",
    "# main loop\n",
    "dur = []\n",
    "for epoch in range(1000):\n",
    "    if epoch >= 3:\n",
    "        t0 = time.time()\n",
    "\n",
    "    logits = net(features)\n",
    "    logp = F.log_softmax(logits, 1)\n",
    "    loss = F.nll_loss(logp[mask], labels[mask])\n",
    "\n",
    "    optimizer.zero_grad()\n",
    "    loss.backward()\n",
    "    optimizer.step()\n",
    "\n",
    "    if epoch >= 3:\n",
    "        dur.append(time.time() - t0)\n",
    "        \n",
    "    if epoch % 100 == 0:\n",
    "        print(\"Epoch {:05d} | Loss {:.4f} | Time(s) {:.4f}\".format(epoch, loss.item(), np.mean(dur)))\n",
    "         "
   ]
  },
  {
   "cell_type": "code",
   "execution_count": 48,
   "metadata": {
    "hidden": true
   },
   "outputs": [
    {
     "ename": "NameError",
     "evalue": "name 'train_loss_arr' is not defined",
     "output_type": "error",
     "traceback": [
      "\u001b[1;31m---------------------------------------------------------------------------\u001b[0m",
      "\u001b[1;31mNameError\u001b[0m                                 Traceback (most recent call last)",
      "\u001b[1;32m<ipython-input-48-0560718d4ceb>\u001b[0m in \u001b[0;36m<module>\u001b[1;34m\u001b[0m\n\u001b[0;32m      1\u001b[0m \u001b[1;32mimport\u001b[0m \u001b[0mmatplotlib\u001b[0m\u001b[1;33m.\u001b[0m\u001b[0mpyplot\u001b[0m \u001b[1;32mas\u001b[0m \u001b[0mplt\u001b[0m\u001b[1;33m\u001b[0m\u001b[1;33m\u001b[0m\u001b[0m\n\u001b[1;32m----> 2\u001b[1;33m \u001b[0mplt\u001b[0m\u001b[1;33m.\u001b[0m\u001b[0mplot\u001b[0m\u001b[1;33m(\u001b[0m\u001b[0mtrain_loss_arr\u001b[0m\u001b[1;33m)\u001b[0m\u001b[1;33m\u001b[0m\u001b[1;33m\u001b[0m\u001b[0m\n\u001b[0m\u001b[0;32m      3\u001b[0m \u001b[0mdisplay\u001b[0m\u001b[1;33m(\u001b[0m\u001b[0mplt\u001b[0m\u001b[1;33m.\u001b[0m\u001b[0mshow\u001b[0m\u001b[1;33m(\u001b[0m\u001b[1;33m)\u001b[0m\u001b[1;33m)\u001b[0m\u001b[1;33m\u001b[0m\u001b[1;33m\u001b[0m\u001b[0m\n",
      "\u001b[1;31mNameError\u001b[0m: name 'train_loss_arr' is not defined"
     ]
    }
   ],
   "source": [
    "import matplotlib.pyplot as plt\n",
    "plt.plot(train_loss_arr)\n",
    "display(plt.show())"
   ]
  },
  {
   "cell_type": "code",
   "execution_count": 49,
   "metadata": {
    "hidden": true
   },
   "outputs": [
    {
     "ename": "NameError",
     "evalue": "name 'data' is not defined",
     "output_type": "error",
     "traceback": [
      "\u001b[1;31m---------------------------------------------------------------------------\u001b[0m",
      "\u001b[1;31mNameError\u001b[0m                                 Traceback (most recent call last)",
      "\u001b[1;32m<ipython-input-49-cd33877e4a2e>\u001b[0m in \u001b[0;36m<module>\u001b[1;34m\u001b[0m\n\u001b[1;32m----> 1\u001b[1;33m \u001b[0mmask\u001b[0m \u001b[1;33m=\u001b[0m \u001b[0mtorch\u001b[0m\u001b[1;33m.\u001b[0m\u001b[0mBoolTensor\u001b[0m\u001b[1;33m(\u001b[0m\u001b[0mdata\u001b[0m\u001b[1;33m.\u001b[0m\u001b[0mtest_mask\u001b[0m\u001b[1;33m)\u001b[0m\u001b[1;33m\u001b[0m\u001b[1;33m\u001b[0m\u001b[0m\n\u001b[0m\u001b[0;32m      2\u001b[0m \u001b[1;33m\u001b[0m\u001b[0m\n\u001b[0;32m      3\u001b[0m \u001b[0mpred\u001b[0m \u001b[1;33m=\u001b[0m \u001b[0mnp\u001b[0m\u001b[1;33m.\u001b[0m\u001b[0margmax\u001b[0m\u001b[1;33m(\u001b[0m\u001b[0mlogp\u001b[0m\u001b[1;33m[\u001b[0m\u001b[0mmask\u001b[0m\u001b[1;33m]\u001b[0m\u001b[1;33m.\u001b[0m\u001b[0mdetach\u001b[0m\u001b[1;33m(\u001b[0m\u001b[1;33m)\u001b[0m\u001b[1;33m.\u001b[0m\u001b[0mnumpy\u001b[0m\u001b[1;33m(\u001b[0m\u001b[1;33m)\u001b[0m\u001b[1;33m,\u001b[0m \u001b[0maxis\u001b[0m \u001b[1;33m=\u001b[0m \u001b[1;36m1\u001b[0m\u001b[1;33m)\u001b[0m\u001b[1;33m\u001b[0m\u001b[1;33m\u001b[0m\u001b[0m\n\u001b[0;32m      4\u001b[0m \u001b[0mansw\u001b[0m \u001b[1;33m=\u001b[0m \u001b[0mlabels\u001b[0m\u001b[1;33m[\u001b[0m\u001b[0mmask\u001b[0m\u001b[1;33m]\u001b[0m\u001b[1;33m.\u001b[0m\u001b[0mnumpy\u001b[0m\u001b[1;33m(\u001b[0m\u001b[1;33m)\u001b[0m\u001b[1;33m\u001b[0m\u001b[1;33m\u001b[0m\u001b[0m\n\u001b[0;32m      5\u001b[0m \u001b[0mnp\u001b[0m\u001b[1;33m.\u001b[0m\u001b[0msum\u001b[0m\u001b[1;33m(\u001b[0m\u001b[1;33m[\u001b[0m\u001b[1;36m1\u001b[0m \u001b[1;32mif\u001b[0m \u001b[0mpred\u001b[0m\u001b[1;33m[\u001b[0m\u001b[0mi\u001b[0m\u001b[1;33m]\u001b[0m \u001b[1;33m==\u001b[0m \u001b[0mansw\u001b[0m\u001b[1;33m[\u001b[0m\u001b[0mi\u001b[0m\u001b[1;33m]\u001b[0m \u001b[1;32melse\u001b[0m \u001b[1;36m0\u001b[0m \u001b[1;32mfor\u001b[0m \u001b[0mi\u001b[0m \u001b[1;32min\u001b[0m \u001b[0mrange\u001b[0m\u001b[1;33m(\u001b[0m\u001b[0mlen\u001b[0m\u001b[1;33m(\u001b[0m\u001b[0mpred\u001b[0m\u001b[1;33m)\u001b[0m\u001b[1;33m)\u001b[0m\u001b[1;33m]\u001b[0m\u001b[1;33m)\u001b[0m \u001b[1;33m/\u001b[0m \u001b[0mlen\u001b[0m\u001b[1;33m(\u001b[0m\u001b[0mpred\u001b[0m\u001b[1;33m)\u001b[0m \u001b[1;33m*\u001b[0m \u001b[1;36m100\u001b[0m\u001b[1;33m\u001b[0m\u001b[1;33m\u001b[0m\u001b[0m\n",
      "\u001b[1;31mNameError\u001b[0m: name 'data' is not defined"
     ]
    }
   ],
   "source": [
    "mask = torch.BoolTensor(data.test_mask)\n",
    "\n",
    "pred = np.argmax(logp[mask].detach().numpy(), axis = 1)\n",
    "answ = labels[mask].numpy()\n",
    "np.sum([1 if pred[i] == answ[i] else 0 for i in range(len(pred))]) / len(pred) * 100"
   ]
  },
  {
   "cell_type": "code",
   "execution_count": null,
   "metadata": {
    "hidden": true
   },
   "outputs": [],
   "source": []
  }
 ],
 "metadata": {
  "kernelspec": {
   "display_name": "Python 3",
   "language": "python",
   "name": "python3"
  },
  "language_info": {
   "codemirror_mode": {
    "name": "ipython",
    "version": 3
   },
   "file_extension": ".py",
   "mimetype": "text/x-python",
   "name": "python",
   "nbconvert_exporter": "python",
   "pygments_lexer": "ipython3",
   "version": "3.8.5"
  },
  "toc": {
   "base_numbering": 1,
   "nav_menu": {},
   "number_sections": true,
   "sideBar": true,
   "skip_h1_title": false,
   "title_cell": "Table of Contents",
   "title_sidebar": "Contents",
   "toc_cell": false,
   "toc_position": {},
   "toc_section_display": true,
   "toc_window_display": false
  }
 },
 "nbformat": 4,
 "nbformat_minor": 4
}
