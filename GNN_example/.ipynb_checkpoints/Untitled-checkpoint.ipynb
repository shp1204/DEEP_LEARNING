{
 "cells": [
  {
   "cell_type": "code",
   "execution_count": 1,
   "metadata": {},
   "outputs": [],
   "source": [
    "import numpy as np\n",
    "import scipy.sparse as sp\n",
    "import torch\n",
    "import pandas as pd"
   ]
  },
  {
   "cell_type": "code",
   "execution_count": 2,
   "metadata": {},
   "outputs": [
    {
     "data": {
      "text/html": [
       "<div>\n",
       "<style scoped>\n",
       "    .dataframe tbody tr th:only-of-type {\n",
       "        vertical-align: middle;\n",
       "    }\n",
       "\n",
       "    .dataframe tbody tr th {\n",
       "        vertical-align: top;\n",
       "    }\n",
       "\n",
       "    .dataframe thead th {\n",
       "        text-align: right;\n",
       "    }\n",
       "</style>\n",
       "<table border=\"1\" class=\"dataframe\">\n",
       "  <thead>\n",
       "    <tr style=\"text-align: right;\">\n",
       "      <th></th>\n",
       "      <th>정보</th>\n",
       "      <th>1</th>\n",
       "      <th>2</th>\n",
       "      <th>3</th>\n",
       "      <th>4</th>\n",
       "      <th>5</th>\n",
       "      <th>label</th>\n",
       "    </tr>\n",
       "  </thead>\n",
       "  <tbody>\n",
       "    <tr>\n",
       "      <th>0</th>\n",
       "      <td>555</td>\n",
       "      <td>1</td>\n",
       "      <td>0</td>\n",
       "      <td>0</td>\n",
       "      <td>0</td>\n",
       "      <td>0</td>\n",
       "      <td>강아지</td>\n",
       "    </tr>\n",
       "    <tr>\n",
       "      <th>1</th>\n",
       "      <td>777</td>\n",
       "      <td>0</td>\n",
       "      <td>1</td>\n",
       "      <td>0</td>\n",
       "      <td>1</td>\n",
       "      <td>0</td>\n",
       "      <td>고양이</td>\n",
       "    </tr>\n",
       "    <tr>\n",
       "      <th>2</th>\n",
       "      <td>333</td>\n",
       "      <td>0</td>\n",
       "      <td>0</td>\n",
       "      <td>1</td>\n",
       "      <td>0</td>\n",
       "      <td>0</td>\n",
       "      <td>얼룩말</td>\n",
       "    </tr>\n",
       "    <tr>\n",
       "      <th>3</th>\n",
       "      <td>999</td>\n",
       "      <td>0</td>\n",
       "      <td>0</td>\n",
       "      <td>0</td>\n",
       "      <td>1</td>\n",
       "      <td>0</td>\n",
       "      <td>고양이</td>\n",
       "    </tr>\n",
       "    <tr>\n",
       "      <th>4</th>\n",
       "      <td>111</td>\n",
       "      <td>1</td>\n",
       "      <td>0</td>\n",
       "      <td>0</td>\n",
       "      <td>0</td>\n",
       "      <td>1</td>\n",
       "      <td>강아지</td>\n",
       "    </tr>\n",
       "  </tbody>\n",
       "</table>\n",
       "</div>"
      ],
      "text/plain": [
       "    정보  1  2  3  4  5 label\n",
       "0  555  1  0  0  0  0   강아지\n",
       "1  777  0  1  0  1  0   고양이\n",
       "2  333  0  0  1  0  0   얼룩말\n",
       "3  999  0  0  0  1  0   고양이\n",
       "4  111  1  0  0  0  1   강아지"
      ]
     },
     "execution_count": 2,
     "metadata": {},
     "output_type": "execute_result"
    }
   ],
   "source": [
    "df = pd.read_csv('./data/gcn.csv', encoding='cp949')\n",
    "df"
   ]
  },
  {
   "cell_type": "markdown",
   "metadata": {},
   "source": [
    "# 정보1"
   ]
  },
  {
   "cell_type": "code",
   "execution_count": 3,
   "metadata": {
    "code_folding": [],
    "scrolled": true
   },
   "outputs": [
    {
     "data": {
      "text/plain": [
       "array([[555, 1, 0, 0, 0, 0, '강아지'],\n",
       "       [777, 0, 1, 0, 1, 0, '고양이'],\n",
       "       [333, 0, 0, 1, 0, 0, '얼룩말'],\n",
       "       [999, 0, 0, 0, 1, 0, '고양이'],\n",
       "       [111, 1, 0, 0, 0, 1, '강아지']], dtype=object)"
      ]
     },
     "execution_count": 3,
     "metadata": {},
     "output_type": "execute_result"
    }
   ],
   "source": [
    "# 정보 1 \n",
    "idx_features_labels = np.array(df)\n",
    "idx_features_labels"
   ]
  },
  {
   "cell_type": "code",
   "execution_count": 4,
   "metadata": {},
   "outputs": [
    {
     "data": {
      "text/plain": [
       "array([[1., 0., 0., 0., 0.],\n",
       "       [0., 1., 0., 1., 0.],\n",
       "       [0., 0., 1., 0., 0.],\n",
       "       [0., 0., 0., 1., 0.],\n",
       "       [1., 0., 0., 0., 1.]], dtype=float32)"
      ]
     },
     "execution_count": 4,
     "metadata": {},
     "output_type": "execute_result"
    }
   ],
   "source": [
    "# 노드의 features\n",
    "features = sp.csr_matrix(idx_features_labels[:, 1:-1], dtype = np.float32)\n",
    "features.toarray() # [1:-1] 의 행렬만 가져온다."
   ]
  },
  {
   "cell_type": "code",
   "execution_count": 5,
   "metadata": {
    "scrolled": true
   },
   "outputs": [
    {
     "name": "stdout",
     "output_type": "stream",
     "text": [
      "label 종류 :  {'고양이', '얼룩말', '강아지'}\n"
     ]
    },
    {
     "data": {
      "text/plain": [
       "array([[0, 0, 1],\n",
       "       [1, 0, 0],\n",
       "       [0, 1, 0],\n",
       "       [1, 0, 0],\n",
       "       [0, 0, 1]])"
      ]
     },
     "execution_count": 5,
     "metadata": {},
     "output_type": "execute_result"
    }
   ],
   "source": [
    "# label값 원핫인코딩\n",
    "classes = set(idx_features_labels[:, -1])\n",
    "print('label 종류 : ' , classes)\n",
    "\n",
    "classes_dict = {c: np.identity(len(classes))[i, :] for i, c in enumerate(classes)}\n",
    "labels_onehot = np.array(list(map(classes_dict.get,idx_features_labels[:, -1])), dtype=np.int32) # dict.get 은 Key에 해당하는 value들을 돌려준다. 이를 array로 !\n",
    "labels = labels_onehot\n",
    "labels"
   ]
  },
  {
   "cell_type": "markdown",
   "metadata": {},
   "source": [
    "# 정보 2"
   ]
  },
  {
   "cell_type": "code",
   "execution_count": 6,
   "metadata": {},
   "outputs": [
    {
     "data": {
      "text/plain": [
       "array([[555, 111],\n",
       "       [777, 999]])"
      ]
     },
     "execution_count": 6,
     "metadata": {},
     "output_type": "execute_result"
    }
   ],
   "source": [
    "# tensor에 올리기 전이기 때문에 양방향 x\n",
    "edges_unordered = np.array([[555, 111],\n",
    "                            [777, 999]])\n",
    "edges_unordered"
   ]
  },
  {
   "cell_type": "code",
   "execution_count": 7,
   "metadata": {},
   "outputs": [
    {
     "data": {
      "text/plain": [
       "{555: 0, 777: 1, 333: 2, 999: 3, 111: 4}"
      ]
     },
     "execution_count": 7,
     "metadata": {},
     "output_type": "execute_result"
    }
   ],
   "source": [
    "# 논문번호 -> 인덱스 로 변환\n",
    "idx = np.array(idx_features_labels[:,0], \n",
    "               dtype=np.int32)\n",
    "idx_map = {j : i for i, j in enumerate(idx)}\n",
    "idx_map"
   ]
  },
  {
   "cell_type": "code",
   "execution_count": 8,
   "metadata": {},
   "outputs": [
    {
     "data": {
      "text/plain": [
       "array([[0, 4],\n",
       "       [1, 3]])"
      ]
     },
     "execution_count": 8,
     "metadata": {},
     "output_type": "execute_result"
    }
   ],
   "source": [
    "# 논문 번호의 해당 인덱스를 가져와서 -> 노드, 노드 로 변경\n",
    "edges = np.array(list(map(idx_map.get, edges_unordered.flatten())), dtype=np.int32).reshape(edges_unordered.shape)\n",
    "edges "
   ]
  },
  {
   "cell_type": "markdown",
   "metadata": {},
   "source": [
    "# 정보 1 + 정보 2"
   ]
  },
  {
   "cell_type": "code",
   "execution_count": 9,
   "metadata": {
    "scrolled": true
   },
   "outputs": [
    {
     "name": "stdout",
     "output_type": "stream",
     "text": [
      "  (0, 4)\t1.0\n",
      "  (1, 3)\t1.0\n"
     ]
    }
   ],
   "source": [
    "adj = sp.coo_matrix((np.ones(edges.shape[0]), (edges[:, 0], edges[:, 1])), # (data(i, j))\n",
    "                    shape = (labels.shape[0], labels.shape[0]), # [shape=(M, N)]\n",
    "                    dtype=np.float32)\n",
    "\n",
    "print('{}'.format(adj))"
   ]
  },
  {
   "cell_type": "markdown",
   "metadata": {},
   "source": [
    "## adj + adj.T.multiply(adj.T > adj) - adj.multiply(adj.T > adj)"
   ]
  },
  {
   "cell_type": "code",
   "execution_count": 10,
   "metadata": {
    "scrolled": true
   },
   "outputs": [
    {
     "name": "stdout",
     "output_type": "stream",
     "text": [
      "  (0, 4)\t1.0\n",
      "  (1, 3)\t1.0\n"
     ]
    }
   ],
   "source": [
    "#########얘랑\n",
    "print('{}'.format(adj))  # 원래 데이터"
   ]
  },
  {
   "cell_type": "code",
   "execution_count": 11,
   "metadata": {
    "scrolled": true
   },
   "outputs": [
    {
     "name": "stdout",
     "output_type": "stream",
     "text": [
      "  (4, 0)\t1.0\n",
      "  (3, 1)\t1.0\n"
     ]
    }
   ],
   "source": [
    "print('{}'.format(adj.T)) # 양방향인거 그래프에 넣어야하기 때문에"
   ]
  },
  {
   "cell_type": "code",
   "execution_count": 12,
   "metadata": {},
   "outputs": [
    {
     "name": "stdout",
     "output_type": "stream",
     "text": [
      "  (3, 1)\t1.0\n",
      "  (4, 0)\t1.0\n"
     ]
    }
   ],
   "source": [
    "#######얘랑\n",
    "print('{}'.format(adj.T.multiply(adj.T > adj))) # 오름차순 정렬 어떻게되느거지..?"
   ]
  },
  {
   "cell_type": "code",
   "execution_count": 13,
   "metadata": {},
   "outputs": [
    {
     "name": "stdout",
     "output_type": "stream",
     "text": [
      "\n"
     ]
    }
   ],
   "source": [
    "####### 얘랑\n",
    "print('{}'.format(adj.multiply(adj.T > adj))) # 결과값 없음"
   ]
  },
  {
   "cell_type": "code",
   "execution_count": 14,
   "metadata": {},
   "outputs": [
    {
     "name": "stdout",
     "output_type": "stream",
     "text": [
      "  (0, 4)\t1.0\n",
      "  (1, 3)\t1.0\n",
      "  (3, 1)\t1.0\n",
      "  (4, 0)\t1.0\n"
     ]
    }
   ],
   "source": [
    "print('{}'.format(adj + adj.T.multiply(adj.T > adj))) # 행렬합해준다 "
   ]
  },
  {
   "cell_type": "code",
   "execution_count": 15,
   "metadata": {},
   "outputs": [
    {
     "name": "stdout",
     "output_type": "stream",
     "text": [
      "  (0, 4)\t1.0\n",
      "  (1, 3)\t1.0\n",
      "  (3, 1)\t1.0\n",
      "  (4, 0)\t1.0\n"
     ]
    }
   ],
   "source": [
    "# build symmetric adjacency matrix\n",
    "adj = adj + adj.T.multiply(adj.T > adj) - adj.multiply(adj.T > adj)\n",
    "print('{}'.format(adj))"
   ]
  },
  {
   "cell_type": "markdown",
   "metadata": {},
   "source": [
    "# normalize"
   ]
  },
  {
   "cell_type": "code",
   "execution_count": 16,
   "metadata": {},
   "outputs": [],
   "source": [
    "# normalize\n",
    "def normalize(mx) : \n",
    "    rowsum = np.array(mx.sum(1)) # 각 노드 정보 개수\n",
    "    print('rowsum')\n",
    "    print(rowsum)\n",
    "\n",
    "    # r_inv\n",
    "    r_inv = np.power(rowsum, -1).flatten() # 0, 1, # power : 0, 1, 8, 27, ,,, / 0, 1, 4, 9, ,,, # 역행렬을 취해준다..왜 ?\n",
    "    print('r_inv')\n",
    "    print(r_inv)\n",
    "    r_inv[np.isinf(r_inv)] = 0\n",
    "    print(r_inv)\n",
    "\n",
    "\n",
    "    # r_mat_inv\n",
    "    r_mat_inv = sp.diags(r_inv) # 뭔가 늘려서 행렬로 만드는거같음\n",
    "    mx = r_mat_inv.dot(mx)\n",
    "\n",
    "    return mx"
   ]
  },
  {
   "cell_type": "code",
   "execution_count": 17,
   "metadata": {
    "scrolled": true
   },
   "outputs": [
    {
     "name": "stdout",
     "output_type": "stream",
     "text": [
      "  (0, 0)\t1.0\n",
      "  (0, 4)\t1.0\n",
      "  (1, 1)\t1.0\n",
      "  (1, 3)\t1.0\n",
      "  (2, 2)\t1.0\n",
      "  (3, 1)\t1.0\n",
      "  (3, 3)\t1.0\n",
      "  (4, 0)\t1.0\n",
      "  (4, 4)\t1.0\n"
     ]
    }
   ],
   "source": [
    "print('{}'.format(adj + sp.eye(adj.shape[0]))) # 대각행렬 \n",
    "# adj + sp.eye(5)"
   ]
  },
  {
   "cell_type": "code",
   "execution_count": 18,
   "metadata": {
    "scrolled": true
   },
   "outputs": [
    {
     "name": "stdout",
     "output_type": "stream",
     "text": [
      "  (0, 0)\t1.0\n",
      "  (1, 1)\t1.0\n",
      "  (1, 3)\t1.0\n",
      "  (2, 2)\t1.0\n",
      "  (3, 3)\t1.0\n",
      "  (4, 0)\t1.0\n",
      "  (4, 4)\t1.0\n"
     ]
    }
   ],
   "source": [
    "print('{}'.format(features))"
   ]
  },
  {
   "cell_type": "code",
   "execution_count": 19,
   "metadata": {
    "scrolled": true
   },
   "outputs": [
    {
     "name": "stdout",
     "output_type": "stream",
     "text": [
      "rowsum\n",
      "[[1.]\n",
      " [2.]\n",
      " [1.]\n",
      " [1.]\n",
      " [2.]]\n",
      "r_inv\n",
      "[1.  0.5 1.  1.  0.5]\n",
      "[1.  0.5 1.  1.  0.5]\n",
      "rowsum\n",
      "[[2.]\n",
      " [2.]\n",
      " [1.]\n",
      " [2.]\n",
      " [2.]]\n",
      "r_inv\n",
      "[0.5 0.5 1.  0.5 0.5]\n",
      "[0.5 0.5 1.  0.5 0.5]\n"
     ]
    }
   ],
   "source": [
    "# features : 각 노드정보\n",
    "features = normalize(features)\n",
    "\n",
    "\n",
    "# adj : 노드-노드 연결정보\n",
    "adj = normalize(adj + sp.eye(adj.shape[0])) # 노드연결정보 + self 노드"
   ]
  },
  {
   "cell_type": "code",
   "execution_count": 20,
   "metadata": {},
   "outputs": [
    {
     "name": "stdout",
     "output_type": "stream",
     "text": [
      "  (0, 4)\t0.5\n",
      "  (0, 0)\t0.5\n",
      "  (1, 3)\t0.5\n",
      "  (1, 1)\t0.5\n",
      "  (2, 2)\t1.0\n",
      "  (3, 3)\t0.5\n",
      "  (3, 1)\t0.5\n",
      "  (4, 4)\t0.5\n",
      "  (4, 0)\t0.5\n"
     ]
    }
   ],
   "source": [
    "print(adj) # 뭔가 나눠갖는 느낌"
   ]
  },
  {
   "cell_type": "code",
   "execution_count": 21,
   "metadata": {
    "code_folding": []
   },
   "outputs": [
    {
     "name": "stdout",
     "output_type": "stream",
     "text": [
      "tensor([2, 0, 1, 0, 2])\n"
     ]
    }
   ],
   "source": [
    "# 원핫인코딩 된 label 중 해당하는 label이 몇 번 째인지\n",
    "labels = torch.LongTensor(np.where(labels)[1]) \n",
    "print(labels)"
   ]
  },
  {
   "cell_type": "code",
   "execution_count": 22,
   "metadata": {},
   "outputs": [],
   "source": [
    "def sparse_mx_to_torch_sparse_tensor(sparse_mx):\n",
    "    \n",
    "    sparse_mx = sparse_mx.tocoo().astype(np.float32)\n",
    "\n",
    "    # 노드\n",
    "    indices = torch.from_numpy(\n",
    "        np.vstack((sparse_mx.row, sparse_mx.col)).astype(np.int64)) # vstack : 행 추가\n",
    "\n",
    "    # 노드 간 edge의 정보\n",
    "    values = torch.from_numpy(sparse_mx.data) # numpy.ndarray를 tensor로 올려줌\n",
    "\n",
    "    # 노드 개수, 특성 개수\n",
    "    shape = torch.Size(sparse_mx.shape)\n",
    "\n",
    "    return torch.sparse.FloatTensor(indices, values, shape) # sparse : 크기에 맞게 값을 뿌려주는 것 같은데 규칙 잘 모르겠다."
   ]
  },
  {
   "cell_type": "code",
   "execution_count": 23,
   "metadata": {},
   "outputs": [
    {
     "data": {
      "text/plain": [
       "tensor(indices=tensor([[0, 4, 1, 3, 2, 1, 3, 0, 4],\n",
       "                       [0, 0, 1, 1, 2, 3, 3, 4, 4]]),\n",
       "       values=tensor([0.5000, 0.5000, 0.5000, 0.5000, 1.0000, 0.5000, 0.5000,\n",
       "                      0.5000, 0.5000]),\n",
       "       size=(5, 5), nnz=9, layout=torch.sparse_coo)"
      ]
     },
     "execution_count": 23,
     "metadata": {},
     "output_type": "execute_result"
    }
   ],
   "source": [
    "# matrix -> tensor\n",
    "adj = sparse_mx_to_torch_sparse_tensor(adj)\n",
    "adj"
   ]
  },
  {
   "cell_type": "code",
   "execution_count": 24,
   "metadata": {},
   "outputs": [],
   "source": [
    "A = adj"
   ]
  },
  {
   "cell_type": "code",
   "execution_count": 25,
   "metadata": {
    "scrolled": true
   },
   "outputs": [
    {
     "name": "stdout",
     "output_type": "stream",
     "text": [
      "tensor(indices=tensor([[0, 4, 1, 3, 2, 1, 3, 0, 4],\n",
      "                       [0, 0, 1, 1, 2, 3, 3, 4, 4]]),\n",
      "       values=tensor([0.5000, 0.5000, 0.5000, 0.5000, 1.0000, 0.5000, 0.5000,\n",
      "                      0.5000, 0.5000]),\n",
      "       size=(5, 5), nnz=9, layout=torch.sparse_coo)\n",
      "  (0, 0)\t1.0\n",
      "  (1, 3)\t0.5\n",
      "  (1, 1)\t0.5\n",
      "  (2, 2)\t1.0\n",
      "  (3, 3)\t1.0\n",
      "  (4, 4)\t0.5\n",
      "  (4, 0)\t0.5\n",
      "tensor([2, 0, 1, 0, 2])\n"
     ]
    }
   ],
   "source": [
    "print(A)\n",
    "print(features) # 노드 feature 정보, 노드간 edge정보를 scaling 한 행렬\n",
    "print(labels) # label"
   ]
  },
  {
   "cell_type": "code",
   "execution_count": 45,
   "metadata": {
    "scrolled": true
   },
   "outputs": [],
   "source": [
    "import torch.optim as optim\n",
    "\n",
    "import torch.nn as nn\n",
    "\n",
    "class GCN_layer(nn.Module) :\n",
    "    def __init__(self, in_features, out_features, A) :\n",
    "        super(GCN_layer, self).__init__() \n",
    "        self.in_features = in_features\n",
    "        self.out_features = out_features\n",
    "        self.A = A\n",
    "        self.fc = nn.Linear(in_features, out_features)\n",
    "\n",
    "    def foward(self, X) :\n",
    "        return self.fc(torch.spmm(self.A, X)) # 이웃 정보 종합\n",
    "\n",
    "\n",
    "class GCN(nn.Module) :\n",
    "    def __init__(self, num_feature, num_class, A) :\n",
    "        super(GCN, self).__init__()\n",
    "        self.feature_extractor = nn.Sequential( GCN_layer(num_feature, 16, A),\n",
    "                                            nn.ReLU(),\n",
    "                                            GCN_layer(16, num_class, A))\n",
    "\n",
    "    def forward(self, X) :\n",
    "        return self.feature_extractor(X)\n",
    "\n",
    "\n",
    "model = GCN(features.size, labels.unique().size(0), A) # "
   ]
  },
  {
   "cell_type": "code",
   "execution_count": 48,
   "metadata": {},
   "outputs": [
    {
     "ename": "TypeError",
     "evalue": "forward() takes 2 positional arguments but 3 were given",
     "output_type": "error",
     "traceback": [
      "\u001b[1;31m---------------------------------------------------------------------------\u001b[0m",
      "\u001b[1;31mTypeError\u001b[0m                                 Traceback (most recent call last)",
      "\u001b[1;32m<ipython-input-48-814fffd56ffe>\u001b[0m in \u001b[0;36m<module>\u001b[1;34m\u001b[0m\n\u001b[1;32m----> 1\u001b[1;33m \u001b[0m_\u001b[0m\u001b[1;33m,\u001b[0m \u001b[0mh\u001b[0m \u001b[1;33m=\u001b[0m \u001b[0mmodel\u001b[0m\u001b[1;33m(\u001b[0m\u001b[0mfeatures\u001b[0m\u001b[1;33m,\u001b[0m \u001b[0mlabels\u001b[0m\u001b[1;33m)\u001b[0m\u001b[1;33m\u001b[0m\u001b[1;33m\u001b[0m\u001b[0m\n\u001b[0m",
      "\u001b[1;32m~\\anaconda3\\envs\\cpu_env\\lib\\site-packages\\torch\\nn\\modules\\module.py\u001b[0m in \u001b[0;36m_call_impl\u001b[1;34m(self, *input, **kwargs)\u001b[0m\n\u001b[0;32m    720\u001b[0m             \u001b[0mresult\u001b[0m \u001b[1;33m=\u001b[0m \u001b[0mself\u001b[0m\u001b[1;33m.\u001b[0m\u001b[0m_slow_forward\u001b[0m\u001b[1;33m(\u001b[0m\u001b[1;33m*\u001b[0m\u001b[0minput\u001b[0m\u001b[1;33m,\u001b[0m \u001b[1;33m**\u001b[0m\u001b[0mkwargs\u001b[0m\u001b[1;33m)\u001b[0m\u001b[1;33m\u001b[0m\u001b[1;33m\u001b[0m\u001b[0m\n\u001b[0;32m    721\u001b[0m         \u001b[1;32melse\u001b[0m\u001b[1;33m:\u001b[0m\u001b[1;33m\u001b[0m\u001b[1;33m\u001b[0m\u001b[0m\n\u001b[1;32m--> 722\u001b[1;33m             \u001b[0mresult\u001b[0m \u001b[1;33m=\u001b[0m \u001b[0mself\u001b[0m\u001b[1;33m.\u001b[0m\u001b[0mforward\u001b[0m\u001b[1;33m(\u001b[0m\u001b[1;33m*\u001b[0m\u001b[0minput\u001b[0m\u001b[1;33m,\u001b[0m \u001b[1;33m**\u001b[0m\u001b[0mkwargs\u001b[0m\u001b[1;33m)\u001b[0m\u001b[1;33m\u001b[0m\u001b[1;33m\u001b[0m\u001b[0m\n\u001b[0m\u001b[0;32m    723\u001b[0m         for hook in itertools.chain(\n\u001b[0;32m    724\u001b[0m                 \u001b[0m_global_forward_hooks\u001b[0m\u001b[1;33m.\u001b[0m\u001b[0mvalues\u001b[0m\u001b[1;33m(\u001b[0m\u001b[1;33m)\u001b[0m\u001b[1;33m,\u001b[0m\u001b[1;33m\u001b[0m\u001b[1;33m\u001b[0m\u001b[0m\n",
      "\u001b[1;31mTypeError\u001b[0m: forward() takes 2 positional arguments but 3 were given"
     ]
    }
   ],
   "source": [
    "_, h = model(features, labels)"
   ]
  },
  {
   "cell_type": "code",
   "execution_count": null,
   "metadata": {},
   "outputs": [],
   "source": [
    "criterion = nn.CrossEntropyLoss()\n",
    "optimizer = optim.Adam(model.parameters(), lr=0.01, weight_decay=0.0001)\n",
    "train(model, criterion, optimizer, 1000)"
   ]
  },
  {
   "cell_type": "code",
   "execution_count": null,
   "metadata": {},
   "outputs": [],
   "source": []
  },
  {
   "cell_type": "code",
   "execution_count": null,
   "metadata": {},
   "outputs": [],
   "source": []
  },
  {
   "cell_type": "code",
   "execution_count": null,
   "metadata": {},
   "outputs": [],
   "source": []
  },
  {
   "cell_type": "code",
   "execution_count": null,
   "metadata": {},
   "outputs": [],
   "source": []
  },
  {
   "cell_type": "code",
   "execution_count": null,
   "metadata": {},
   "outputs": [],
   "source": []
  },
  {
   "cell_type": "code",
   "execution_count": null,
   "metadata": {},
   "outputs": [],
   "source": []
  },
  {
   "cell_type": "code",
   "execution_count": null,
   "metadata": {},
   "outputs": [],
   "source": []
  },
  {
   "cell_type": "code",
   "execution_count": null,
   "metadata": {},
   "outputs": [],
   "source": []
  }
 ],
 "metadata": {
  "kernelspec": {
   "display_name": "Python 3",
   "language": "python",
   "name": "python3"
  },
  "language_info": {
   "codemirror_mode": {
    "name": "ipython",
    "version": 3
   },
   "file_extension": ".py",
   "mimetype": "text/x-python",
   "name": "python",
   "nbconvert_exporter": "python",
   "pygments_lexer": "ipython3",
   "version": "3.8.5"
  },
  "toc": {
   "base_numbering": 1,
   "nav_menu": {},
   "number_sections": true,
   "sideBar": true,
   "skip_h1_title": false,
   "title_cell": "Table of Contents",
   "title_sidebar": "Contents",
   "toc_cell": false,
   "toc_position": {},
   "toc_section_display": true,
   "toc_window_display": false
  }
 },
 "nbformat": 4,
 "nbformat_minor": 4
}
